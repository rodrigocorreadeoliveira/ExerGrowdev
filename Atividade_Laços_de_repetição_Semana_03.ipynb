{
  "nbformat": 4,
  "nbformat_minor": 0,
  "metadata": {
    "colab": {
      "provenance": [],
      "include_colab_link": true
    },
    "kernelspec": {
      "name": "python3",
      "display_name": "Python 3"
    },
    "language_info": {
      "name": "python"
    }
  },
  "cells": [
    {
      "cell_type": "markdown",
      "metadata": {
        "id": "view-in-github",
        "colab_type": "text"
      },
      "source": [
        "<a href=\"https://colab.research.google.com/github/rodrigocorreadeoliveira/ExerGrowdev/blob/main/Atividade_La%C3%A7os_de_repeti%C3%A7%C3%A3o_Semana_03.ipynb\" target=\"_parent\"><img src=\"https://colab.research.google.com/assets/colab-badge.svg\" alt=\"Open In Colab\"/></a>"
      ]
    },
    {
      "cell_type": "markdown",
      "source": [
        "![Growdev](https://www.growdev.com.br/assets/images/logo_growdev.png)"
      ],
      "metadata": {
        "id": "v8pFWwviib2C"
      }
    },
    {
      "cell_type": "markdown",
      "source": [
        "![Formação Engenharia de Dados](https://d335luupugsy2.cloudfront.net/cms/files/524558/1707226566/$occu5m8t1op)"
      ],
      "metadata": {
        "id": "6Tkl4_HxifXZ"
      }
    },
    {
      "cell_type": "markdown",
      "source": [
        "Este material tem como objetivo incentivar a prática dos conteúdos estudados até o momento, e a pesquisa. Tenha em consideração que o exercício foi pensado para incentivar a prática dos conteúdos estudados até então, porém aprender a pesquisar faz parte do processo de aprendizagem.\n",
        "\n",
        "Fique tranquilo, faça os exercícios com calma, e boa prática!\n"
      ],
      "metadata": {
        "id": "ty7Bzyl1i9bN"
      }
    },
    {
      "cell_type": "markdown",
      "source": [
        "#Orientações:\n",
        "\n",
        " - Faça uma copia deste arquivo\n",
        " - Após concluir os exercicios, suba seu exercicio para o GitHub e compartilhe o link no **google** Classroom\n"
      ],
      "metadata": {
        "id": "DU5-yCQwjx3V"
      }
    },
    {
      "cell_type": "markdown",
      "source": [
        "#Exercícios"
      ],
      "metadata": {
        "id": "EzT810tnlmfE"
      }
    },
    {
      "cell_type": "markdown",
      "source": [
        "\n",
        "1- Escrever um programa que lê 5 valores para a, um de cada vez, e conta quantos destes valores são negativos, escrevendo esta informação."
      ],
      "metadata": {
        "id": "p62-CTXgvn5E"
      }
    },
    {
      "cell_type": "code",
      "source": [
        "cont = 0\n",
        "\n",
        "for i in range(5):\n",
        "  N = float(input(\"Digite um valor: \"))\n",
        "\n",
        "  if N < 0:\n",
        "    cont += 1\n",
        "\n",
        "print(f\"Os numeros negativos foram: {cont}\")\n",
        "\n"
      ],
      "metadata": {
        "id": "gU8NkXNYvmZv",
        "colab": {
          "base_uri": "https://localhost:8080/"
        },
        "outputId": "8d593e5d-c2c7-469d-ab90-eb176e10c0a3"
      },
      "execution_count": 6,
      "outputs": [
        {
          "output_type": "stream",
          "name": "stdout",
          "text": [
            "Digite um valor: 7\n",
            "Digite um valor: -7\n",
            "Digite um valor: -5\n",
            "Digite um valor: -4\n",
            "Digite um valor: 6\n",
            "Os numeros negativos foram: 3\n"
          ]
        }
      ]
    },
    {
      "cell_type": "markdown",
      "source": [],
      "metadata": {
        "id": "_ST1Z4wkjMzJ"
      }
    },
    {
      "cell_type": "markdown",
      "source": [
        "2 - A prefeitura de uma cidade fez uma pesquisa entre seus habitantes, coletando dados sobre o salário e número de filhos. A prefeitura deseja saber:\n",
        "\n",
        "a) média do salário da população;\n",
        "\n",
        "b) média do número de filhos;\n",
        "\n",
        "c) maior salário;\n",
        "\n",
        "d) percentual de pessoas com salário até R$2000,00.\n",
        "\n",
        "Escreva um programa que receba as informações necessárias de 5 pessoas conforme a descrição e responda às questões a, b, c e d anteriores.\n"
      ],
      "metadata": {
        "id": "59g_B9yRvqYS"
      }
    },
    {
      "cell_type": "code",
      "source": [
        "salario_total = 0\n",
        "filhos_total = 0\n",
        "maior_salario = 0\n",
        "percentual = 0\n",
        "\n",
        "for i in range(5):\n",
        "  salario = float(input(\"Digite o salario: \"))\n",
        "  filhos = float(input(\"Digite o numero de filhos: \"))\n",
        "\n",
        "  salario_total += salario\n",
        "  filhos_total += filhos\n",
        "\n",
        "  if salario > maior_salario:\n",
        "    maior_salario = salario\n",
        "\n",
        "  if salario <= 2000:\n",
        "    percentual += 1\n",
        "\n",
        "media_salario = salario_total / 5\n",
        "media_filhos = filhos_total / 5\n",
        "\n",
        "percentual_pessoas = (percentual / 5) * 100\n",
        "\n",
        "print(f\"A média de Salário é: {media_salario}\")\n",
        "print(f\"A média de Filhos é: {media_filhos} \")\n",
        "print(f\"O maior salário é: {maior_salario}\")\n",
        "print(f\"O percentual de pessoas com salário até R$2000,00 é: {percentual_pessoas}\")"
      ],
      "metadata": {
        "id": "hz6OkEJBv52O",
        "colab": {
          "base_uri": "https://localhost:8080/"
        },
        "outputId": "4de5b224-9dba-4d8d-b0e3-13aea79ed227"
      },
      "execution_count": 19,
      "outputs": [
        {
          "output_type": "stream",
          "name": "stdout",
          "text": [
            "Digite o salario: 5000\n",
            "Digite o numero de filhos: 1\n",
            "Digite o salario: 1000\n",
            "Digite o numero de filhos: 2\n",
            "Digite o salario: 5000\n",
            "Digite o numero de filhos: 1\n",
            "Digite o salario: 2100\n",
            "Digite o numero de filhos: 1\n",
            "Digite o salario: 500\n",
            "Digite o numero de filhos: 4\n",
            "A média de Salário é: 2720.0\n",
            "A média de Filhos é: 1.8 \n",
            "O maior salário é: 5000.0\n",
            "O percentual de pessoas com salário até R$2000,00 é: 40.0\n"
          ]
        }
      ]
    },
    {
      "cell_type": "markdown",
      "source": [
        "3 - Chico tem 1,50 metro e cresce 2 centímetros por ano, enquanto Zé tem 1,10 metro e cresce 3 centímetros por ano. Construa um programa que calcule e imprima quantos anos serão necessários para que Zé seja maior que Chico."
      ],
      "metadata": {
        "id": "V-7kNtvtwDN1"
      }
    },
    {
      "cell_type": "code",
      "source": [
        "# Chico's initial height and growth rate\n",
        "chico_height = 1.50\n",
        "chico_growth = 0.02\n",
        "\n",
        "# Zé's initial height and growth rate\n",
        "ze_height = 1.10\n",
        "ze_growth = 0.05\n",
        "\n",
        "# Initialize a counter for years\n",
        "years = 0\n",
        "\n",
        "# Loop until Zé is taller than Chico\n",
        "while ze_height <= chico_height:\n",
        "  # Increase both heights by their respective growth rates\n",
        "  chico_height += chico_growth\n",
        "  ze_height += ze_growth\n",
        "\n",
        "  # Increment the year counter\n",
        "  years += 1\n",
        "\n",
        "# Print the number of years it took\n",
        "print(f\"It will take {years} years for Zé to be taller than Chico.\")"
      ],
      "metadata": {
        "id": "Xlx4kqLpwE4L",
        "colab": {
          "base_uri": "https://localhost:8080/"
        },
        "outputId": "00d94cc6-9a71-4ba5-e76a-cc3243a3c411"
      },
      "execution_count": 26,
      "outputs": [
        {
          "output_type": "stream",
          "name": "stdout",
          "text": [
            "It will take 14 years for Zé to be taller than Chico.\n"
          ]
        }
      ]
    },
    {
      "cell_type": "markdown",
      "source": [
        "4 - Em uma eleição presidencial existem dois candidatos. Os votos são informados através de códigos. Os dados utilizados para a contagem dos votos obedecem à seguinte codificação:  \n",
        "\n",
        "1,2 = voto para os respectivos candidatos\n",
        "\n",
        "3 = voto nulo\n",
        "\n",
        "4 = voto em branco;\n",
        "\n",
        "Elabore um programa que leia o código de votação de 5 eleitores. Calcule e escreva:\n",
        "total de votos para cada candidato\n",
        "total de votos nulos\n",
        "total de votos em branco\n"
      ],
      "metadata": {
        "id": "BU7x-lumwGRO"
      }
    },
    {
      "cell_type": "code",
      "source": [],
      "metadata": {
        "id": "tnOkAb44wQo5"
      },
      "execution_count": null,
      "outputs": []
    },
    {
      "cell_type": "markdown",
      "source": [
        "5 - Escreva um programa que receba o nome de 10 pessoas e para cada pessoa, o lugar para o qual ela já viajou. Sendo que existem 3 possibilidades:\n",
        "\n",
        "Rio de Janeiro\n",
        "\n",
        "Bahia\n",
        "\n",
        "Minas Gerais\n",
        "\n",
        "Após, informar qual foi o destino mais visitado e qual o menos visitado.\n"
      ],
      "metadata": {
        "id": "oNyazyHPwzlo"
      }
    },
    {
      "cell_type": "code",
      "source": [],
      "metadata": {
        "id": "FzTr2EY1w2Ey"
      },
      "execution_count": null,
      "outputs": []
    },
    {
      "cell_type": "markdown",
      "source": [
        "6 -  A série de Fibonacci é formada pela sequência 1,1,2,3,5,8,13,21,34,55,... Faça um programa capaz de gerar a série até o n−ésimo termo."
      ],
      "metadata": {
        "id": "HVJPsqTcw95-"
      }
    },
    {
      "cell_type": "code",
      "source": [],
      "metadata": {
        "id": "ZwgmpSgGw-v3"
      },
      "execution_count": null,
      "outputs": []
    },
    {
      "cell_type": "markdown",
      "source": [
        "7 - Escreva um programa que conte em ordem reversa, de 25 a zero."
      ],
      "metadata": {
        "id": "DaF7vXEWxB6R"
      }
    },
    {
      "cell_type": "code",
      "source": [],
      "metadata": {
        "id": "2AYe_lX2xCdj"
      },
      "execution_count": null,
      "outputs": []
    },
    {
      "cell_type": "markdown",
      "source": [
        "8 - Crie um programa para que retorne o somatório de todos os números entre 1 e um valor fornecido pelo usuário. Por exemplo, se o usuário fornecer o número 4, o computador deverá calcular o somatório 1+ 2 + 3 + 4 = 10."
      ],
      "metadata": {
        "id": "Oc2yjIGqxF3h"
      }
    },
    {
      "cell_type": "code",
      "source": [],
      "metadata": {
        "id": "m5gfIfomxGwe"
      },
      "execution_count": null,
      "outputs": []
    },
    {
      "cell_type": "markdown",
      "source": [
        "9 - Escreva um programa que leia a idade e salário de 10 pessoas. Informe em seguida:\n",
        "Qual é a média de idade entre as pessoas?\n",
        "Quantas pessoas há por faixa etária, considerando:\n",
        "jovens < 18\n",
        "18 <= adultos < 60\n",
        "idosos >= 60\n",
        "Em seguida, mostre qual é a faixa etária que acumula o maior salário.\n"
      ],
      "metadata": {
        "id": "5D368hETyJQh"
      }
    },
    {
      "cell_type": "code",
      "source": [],
      "metadata": {
        "id": "zZsS7JHm0UY6"
      },
      "execution_count": null,
      "outputs": []
    },
    {
      "cell_type": "markdown",
      "source": [
        "10 - Crie uma calculadora simples que realiza operações de adição, subtração, multiplicação, divisão e exponenciação. O programa deve continuar pedindo operações até que o usuário escolha sair.\n"
      ],
      "metadata": {
        "id": "L4xlYJzdhZyV"
      }
    },
    {
      "cell_type": "code",
      "source": [],
      "metadata": {
        "id": "t1GTUaOshazK"
      },
      "execution_count": null,
      "outputs": []
    },
    {
      "cell_type": "markdown",
      "source": [
        "11 - Crie um jogo em que o computador escolha um número aleatório entre 1 e 100, e o jogador tenta adivinhá-lo. O programa deve dar dicas se o número é maior ou menor do que o número digitado pelo jogador. O jogo continua até que o jogador acerte o número."
      ],
      "metadata": {
        "id": "TvOVLvpYhohk"
      }
    },
    {
      "cell_type": "markdown",
      "source": [
        "Exemplo de saída:\n",
        "\n",
        "Bem-vindo ao jogo de adivinhação!\n",
        "\n",
        "Tente adivinhar o número entre 1 e 100.\n",
        "\n",
        "Digite sua tentativa: 50\n",
        "\n",
        "O número é menor.\n",
        "\n",
        "Digite sua tentativa: 75\n",
        "\n",
        "O número é maior.\n",
        "\n",
        "Digite sua tentativa: 63\n",
        "\n",
        "O número é menor.\n",
        "\n",
        "Digite sua tentativa: 68\n",
        "\n",
        "Parabéns! Você acertou o número 68 em 4 tentativas!"
      ],
      "metadata": {
        "id": "GMjNhBcxo3ks"
      }
    },
    {
      "cell_type": "code",
      "source": [],
      "metadata": {
        "id": "wD7WVTzdh3Tf"
      },
      "execution_count": null,
      "outputs": []
    },
    {
      "cell_type": "markdown",
      "source": [
        "12 - Escreva um programa que calcula o valor de um investimento após um número específico de anos, considerando juros compostos. O usuário deve fornecer o principal (valor inicial do investimento), a taxa de juros anual (em porcentagem) e o número de anos.\n",
        "\n",
        "A fórmula para calcular o valor de um investimento após n anos com juros compostos é:\n",
        "\n",
        "A=P×(1+r)^n\n",
        "\n",
        "\n",
        "Onde:\n",
        "\n",
        "\n",
        "A é o valor do investimento após n anos,\n",
        "\n",
        "P é o principal (valor inicial do investimento),\n",
        "\n",
        "r é a taxa de juros anual (em decimal), e\n",
        "\n",
        "n é o número de anos."
      ],
      "metadata": {
        "id": "528JJZodmafY"
      }
    },
    {
      "cell_type": "markdown",
      "source": [
        "\n",
        "Exemplo de saída:\n",
        "\n",
        "Digite o principal (R$): 1000\n",
        "\n",
        "Digite a taxa de juros anual (%): 5\n",
        "\n",
        "Digite o número de anos: 10\n",
        "\n",
        "O valor do investimento após 10 anos é: R$ 1628.89"
      ],
      "metadata": {
        "id": "-6opTpcXoxNw"
      }
    },
    {
      "cell_type": "code",
      "source": [],
      "metadata": {
        "id": "3XHAThk1oFIT"
      },
      "execution_count": null,
      "outputs": []
    }
  ]
}