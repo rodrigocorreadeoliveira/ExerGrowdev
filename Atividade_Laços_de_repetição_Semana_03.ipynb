{
  "nbformat": 4,
  "nbformat_minor": 0,
  "metadata": {
    "colab": {
      "provenance": [],
      "include_colab_link": true
    },
    "kernelspec": {
      "name": "python3",
      "display_name": "Python 3"
    },
    "language_info": {
      "name": "python"
    }
  },
  "cells": [
    {
      "cell_type": "markdown",
      "metadata": {
        "id": "view-in-github",
        "colab_type": "text"
      },
      "source": [
        "<a href=\"https://colab.research.google.com/github/rodrigocorreadeoliveira/ExerGrowdev/blob/main/Atividade_La%C3%A7os_de_repeti%C3%A7%C3%A3o_Semana_03.ipynb\" target=\"_parent\"><img src=\"https://colab.research.google.com/assets/colab-badge.svg\" alt=\"Open In Colab\"/></a>"
      ]
    },
    {
      "cell_type": "markdown",
      "source": [
        "![Growdev](https://www.growdev.com.br/assets/images/logo_growdev.png)"
      ],
      "metadata": {
        "id": "v8pFWwviib2C"
      }
    },
    {
      "cell_type": "markdown",
      "source": [
        "![Formação Engenharia de Dados](https://d335luupugsy2.cloudfront.net/cms/files/524558/1707226566/$occu5m8t1op)"
      ],
      "metadata": {
        "id": "6Tkl4_HxifXZ"
      }
    },
    {
      "cell_type": "markdown",
      "source": [
        "Este material tem como objetivo incentivar a prática dos conteúdos estudados até o momento, e a pesquisa. Tenha em consideração que o exercício foi pensado para incentivar a prática dos conteúdos estudados até então, porém aprender a pesquisar faz parte do processo de aprendizagem.\n",
        "\n",
        "Fique tranquilo, faça os exercícios com calma, e boa prática!\n"
      ],
      "metadata": {
        "id": "ty7Bzyl1i9bN"
      }
    },
    {
      "cell_type": "markdown",
      "source": [
        "#Orientações:\n",
        "\n",
        " - Faça uma copia deste arquivo\n",
        " - Após concluir os exercicios, suba seu exercicio para o GitHub e compartilhe o link no **google** Classroom\n"
      ],
      "metadata": {
        "id": "DU5-yCQwjx3V"
      }
    },
    {
      "cell_type": "markdown",
      "source": [
        "#Exercícios"
      ],
      "metadata": {
        "id": "EzT810tnlmfE"
      }
    },
    {
      "cell_type": "markdown",
      "source": [
        "\n",
        "1- Escrever um programa que lê 5 valores para a, um de cada vez, e conta quantos destes valores são negativos, escrevendo esta informação."
      ],
      "metadata": {
        "id": "p62-CTXgvn5E"
      }
    },
    {
      "cell_type": "code",
      "source": [
        "cont = 0\n",
        "\n",
        "for i in range(5):\n",
        "  N = float(input(\"Digite um valor: \"))\n",
        "\n",
        "  if N < 0:\n",
        "    cont += 1\n",
        "\n",
        "print(f\"Os numeros negativos foram: {cont}\")\n",
        "\n"
      ],
      "metadata": {
        "id": "gU8NkXNYvmZv",
        "colab": {
          "base_uri": "https://localhost:8080/"
        },
        "outputId": "8d593e5d-c2c7-469d-ab90-eb176e10c0a3"
      },
      "execution_count": null,
      "outputs": [
        {
          "output_type": "stream",
          "name": "stdout",
          "text": [
            "Digite um valor: 7\n",
            "Digite um valor: -7\n",
            "Digite um valor: -5\n",
            "Digite um valor: -4\n",
            "Digite um valor: 6\n",
            "Os numeros negativos foram: 3\n"
          ]
        }
      ]
    },
    {
      "cell_type": "markdown",
      "source": [],
      "metadata": {
        "id": "_ST1Z4wkjMzJ"
      }
    },
    {
      "cell_type": "markdown",
      "source": [
        "2 - A prefeitura de uma cidade fez uma pesquisa entre seus habitantes, coletando dados sobre o salário e número de filhos. A prefeitura deseja saber:\n",
        "\n",
        "a) média do salário da população;\n",
        "\n",
        "b) média do número de filhos;\n",
        "\n",
        "c) maior salário;\n",
        "\n",
        "d) percentual de pessoas com salário até R$2000,00.\n",
        "\n",
        "Escreva um programa que receba as informações necessárias de 5 pessoas conforme a descrição e responda às questões a, b, c e d anteriores.\n"
      ],
      "metadata": {
        "id": "59g_B9yRvqYS"
      }
    },
    {
      "cell_type": "code",
      "source": [
        "salario_total = 0\n",
        "filhos_total = 0\n",
        "maior_salario = 0\n",
        "percentual = 0\n",
        "\n",
        "for i in range(5):\n",
        "  salario = float(input(\"Digite o salario: \"))\n",
        "  filhos = float(input(\"Digite o numero de filhos: \"))\n",
        "\n",
        "  salario_total += salario\n",
        "  filhos_total += filhos\n",
        "\n",
        "  if salario > maior_salario:\n",
        "    maior_salario = salario\n",
        "\n",
        "  if salario <= 2000:\n",
        "    percentual += 1\n",
        "\n",
        "media_salario = salario_total / 5\n",
        "media_filhos = filhos_total / 5\n",
        "\n",
        "percentual_pessoas = (percentual / 5) * 100\n",
        "\n",
        "print(f\"A média de Salário é: {media_salario}\")\n",
        "print(f\"A média de Filhos é: {media_filhos} \")\n",
        "print(f\"O maior salário é: {maior_salario}\")\n",
        "print(f\"O percentual de pessoas com salário até R$2000,00 é: {percentual_pessoas}\")"
      ],
      "metadata": {
        "id": "hz6OkEJBv52O",
        "colab": {
          "base_uri": "https://localhost:8080/"
        },
        "outputId": "4de5b224-9dba-4d8d-b0e3-13aea79ed227"
      },
      "execution_count": null,
      "outputs": [
        {
          "output_type": "stream",
          "name": "stdout",
          "text": [
            "Digite o salario: 5000\n",
            "Digite o numero de filhos: 1\n",
            "Digite o salario: 1000\n",
            "Digite o numero de filhos: 2\n",
            "Digite o salario: 5000\n",
            "Digite o numero de filhos: 1\n",
            "Digite o salario: 2100\n",
            "Digite o numero de filhos: 1\n",
            "Digite o salario: 500\n",
            "Digite o numero de filhos: 4\n",
            "A média de Salário é: 2720.0\n",
            "A média de Filhos é: 1.8 \n",
            "O maior salário é: 5000.0\n",
            "O percentual de pessoas com salário até R$2000,00 é: 40.0\n"
          ]
        }
      ]
    },
    {
      "cell_type": "markdown",
      "source": [
        "3 - Chico tem 1,50 metro e cresce 2 centímetros por ano, enquanto Zé tem 1,10 metro e cresce 3 centímetros por ano. Construa um programa que calcule e imprima quantos anos serão necessários para que Zé seja maior que Chico."
      ],
      "metadata": {
        "id": "V-7kNtvtwDN1"
      }
    },
    {
      "cell_type": "code",
      "source": [
        "altura_chico = 150\n",
        "altura_ze = 110\n",
        "crescimento_chico = 2\n",
        "crescimento_ze = 3\n",
        "anos = 0\n",
        "\n",
        "while altura_ze <= altura_chico:\n",
        "    altura_chico += crescimento_chico\n",
        "    altura_ze += crescimento_ze\n",
        "    anos += 1\n",
        "\n",
        "print(f\"Serão necessários {anos} anos para que Zé seja mais alto que Chico.\")"
      ],
      "metadata": {
        "id": "Xlx4kqLpwE4L",
        "colab": {
          "base_uri": "https://localhost:8080/"
        },
        "outputId": "af0dc817-77b0-4dc2-e6c4-07a10ec31a06"
      },
      "execution_count": null,
      "outputs": [
        {
          "output_type": "stream",
          "name": "stdout",
          "text": [
            "Serão necessários 41 anos para que Zé seja mais alto que Chico.\n"
          ]
        }
      ]
    },
    {
      "cell_type": "markdown",
      "source": [
        "4 - Em uma eleição presidencial existem dois candidatos. Os votos são informados através de códigos. Os dados utilizados para a contagem dos votos obedecem à seguinte codificação:  \n",
        "\n",
        "1,2 = voto para os respectivos candidatos\n",
        "\n",
        "3 = voto nulo\n",
        "\n",
        "4 = voto em branco;\n",
        "\n",
        "Elabore um programa que leia o código de votação de 5 eleitores. Calcule e escreva:\n",
        "total de votos para cada candidato\n",
        "total de votos nulos\n",
        "total de votos em branco\n"
      ],
      "metadata": {
        "id": "BU7x-lumwGRO"
      }
    },
    {
      "cell_type": "code",
      "source": [
        "Vot_1 = 0\n",
        "Vot_2 = 0\n",
        "Vot_nulo = 0\n",
        "Vot_branco = 0\n",
        "print(\"1 = para o candidato 1\\n2 = para o candidato 2\\n3 = voto nulo\\n4 = voto em branco\\n\")\n",
        "\n",
        "for i in range(5):\n",
        "  voto = int(input(\"Digite o seu voto: \"))\n",
        "\n",
        "  if voto == 1:\n",
        "    Vot_1 += 1\n",
        "  elif voto == 2:\n",
        "    Vot_2 += 1\n",
        "  elif voto == 3:\n",
        "    Vot_nulo += 1\n",
        "  elif voto == 4:\n",
        "    Vot_branco += 1\n",
        "  else:\n",
        "    print(\"Voto inválido\")\n",
        "\n",
        "print(f\"\\nTotal de votos para o candidato 1: {Vot_1}\")\n",
        "print(f\"Total de votos para o candidato 2: {Vot_2}\")\n",
        "print(f\"Total de votos nulos: {Vot_nulo}\")\n",
        "print(f\"Total de votos em branco: {Vot_branco}\")"
      ],
      "metadata": {
        "id": "tnOkAb44wQo5",
        "colab": {
          "base_uri": "https://localhost:8080/"
        },
        "outputId": "419f9569-2db4-4db5-facc-6b22b66e925a"
      },
      "execution_count": null,
      "outputs": [
        {
          "output_type": "stream",
          "name": "stdout",
          "text": [
            "1 = para o candidato 1\n",
            "2 = para o candidato 2\n",
            "3 = voto nulo\n",
            "4 = voto em branco\n",
            "\n",
            "Digite o seu voto: 1\n",
            "Digite o seu voto: 2\n",
            "Digite o seu voto: 7\n",
            "Voto inválido\n",
            "Digite o seu voto: 2\n",
            "Digite o seu voto: 3\n",
            "\n",
            "Total de votos para o candidato 1: 1\n",
            "Total de votos para o candidato 2: 2\n",
            "Total de votos nulos: 1\n",
            "Total de votos em branco: 0\n"
          ]
        }
      ]
    },
    {
      "cell_type": "markdown",
      "source": [
        "5 - Escreva um programa que receba o nome de 10 pessoas e para cada pessoa, o lugar para o qual ela já viajou. Sendo que existem 3 possibilidades:\n",
        "\n",
        "Rio de Janeiro\n",
        "\n",
        "Bahia\n",
        "\n",
        "Minas Gerais\n",
        "\n",
        "Após, informar qual foi o destino mais visitado e qual o menos visitado.\n"
      ],
      "metadata": {
        "id": "oNyazyHPwzlo"
      }
    },
    {
      "cell_type": "code",
      "source": [
        "destinos = {\n",
        "    \"Rio de Janeiro\": 0,\n",
        "    \"Bahia\": 0,\n",
        "    \"Minas Gerais\": 0\n",
        "    }\n",
        "\n",
        "for i in range(10):\n",
        "    nome = input(\"\\nDigite o nome da pessoa: \")\n",
        "    destino = input(\"Digite o destino visitado:\\n1 para Rio de Janeiro\\n2 para Bahia\\n3 para Minas Gerais: \\n\\t\").capitalize()\n",
        "\n",
        "    if destino == \"1\":\n",
        "      destinos[\"Rio de Janeiro\"] += 1\n",
        "    elif destino == \"2\":\n",
        "      destinos[\"Bahia\"] += 1\n",
        "    elif destino == \"3\":\n",
        "      destinos[\"Minas Gerais\"] += 1\n",
        "    else:\n",
        "      print(\"Destino inválido\")\n",
        "\n",
        "destino_mais_visitado = max(destinos, key=destinos.get)\n",
        "destino_menos_visitado = min(destinos, key=destinos.get)\n",
        "\n",
        "print(f\"O destino mais visitado foi: {destino_mais_visitado}\")\n",
        "print(f\"O destino menos visitado foi: {destino_menos_visitado}\")"
      ],
      "metadata": {
        "id": "FzTr2EY1w2Ey",
        "colab": {
          "base_uri": "https://localhost:8080/"
        },
        "outputId": "b0e0200f-6952-41ee-d84c-73b452547a0d"
      },
      "execution_count": null,
      "outputs": [
        {
          "output_type": "stream",
          "name": "stdout",
          "text": [
            "\n",
            "Digite o nome da pessoa: weuhrr\n",
            "Digite o destino visitado:\n",
            "1 para Rio de Janeiro\n",
            "2 para Bahia\n",
            "3 para Minas Gerais: \n",
            "\t1\n",
            "\n",
            "Digite o nome da pessoa: rwrewq\n",
            "Digite o destino visitado:\n",
            "1 para Rio de Janeiro\n",
            "2 para Bahia\n",
            "3 para Minas Gerais: \n",
            "\t2\n",
            "\n",
            "Digite o nome da pessoa: rwrew\n",
            "Digite o destino visitado:\n",
            "1 para Rio de Janeiro\n",
            "2 para Bahia\n",
            "3 para Minas Gerais: \n",
            "\t3\n",
            "\n",
            "Digite o nome da pessoa: etqwer\n",
            "Digite o destino visitado:\n",
            "1 para Rio de Janeiro\n",
            "2 para Bahia\n",
            "3 para Minas Gerais: \n",
            "\t3\n",
            "\n",
            "Digite o nome da pessoa: rqwrqw\n",
            "Digite o destino visitado:\n",
            "1 para Rio de Janeiro\n",
            "2 para Bahia\n",
            "3 para Minas Gerais: \n",
            "\t3\n",
            "\n",
            "Digite o nome da pessoa: rwqerrasz\n",
            "Digite o destino visitado:\n",
            "1 para Rio de Janeiro\n",
            "2 para Bahia\n",
            "3 para Minas Gerais: \n",
            "\t2\n",
            "O destino mais visitado foi: Minas Gerais\n",
            "O destino menos visitado foi: Rio de Janeiro\n"
          ]
        }
      ]
    },
    {
      "cell_type": "markdown",
      "source": [
        "6 -  A série de Fibonacci é formada pela sequência 1,1,2,3,5,8,13,21,34,55,... Faça um programa capaz de gerar a série até o n−ésimo termo."
      ],
      "metadata": {
        "id": "HVJPsqTcw95-"
      }
    },
    {
      "cell_type": "code",
      "source": [
        "def fibonacci(n):\n",
        "  if n <= 1:\n",
        "    return n\n",
        "  else:\n",
        "    return fibonacci(n-1) + fibonacci(n-2)\n",
        "\n",
        "n = int(input(\"Digite o n-ésimo termo de Fibo: \"))\n",
        "\n",
        "for i in range(n):\n",
        "  print(fibonacci(i))"
      ],
      "metadata": {
        "id": "ZwgmpSgGw-v3",
        "colab": {
          "base_uri": "https://localhost:8080/"
        },
        "outputId": "c9b119e5-ebd4-46e7-f291-58675e454f28"
      },
      "execution_count": null,
      "outputs": [
        {
          "output_type": "stream",
          "name": "stdout",
          "text": [
            "Digite o n-ésimo termo de Fibo: 9\n",
            "0\n",
            "1\n",
            "1\n",
            "2\n",
            "3\n",
            "5\n",
            "8\n",
            "13\n",
            "21\n"
          ]
        }
      ]
    },
    {
      "cell_type": "markdown",
      "source": [
        "7 - Escreva um programa que conte em ordem reversa, de 25 a zero."
      ],
      "metadata": {
        "id": "DaF7vXEWxB6R"
      }
    },
    {
      "cell_type": "code",
      "source": [
        "contador = 25\n",
        "while contador >= 0:\n",
        "    print(contador)\n",
        "    contador -= 1"
      ],
      "metadata": {
        "id": "2AYe_lX2xCdj",
        "colab": {
          "base_uri": "https://localhost:8080/"
        },
        "outputId": "3de08426-accc-4592-9f65-4691eaf0e92c"
      },
      "execution_count": null,
      "outputs": [
        {
          "output_type": "stream",
          "name": "stdout",
          "text": [
            "25\n",
            "24\n",
            "23\n",
            "22\n",
            "21\n",
            "20\n",
            "19\n",
            "18\n",
            "17\n",
            "16\n",
            "15\n",
            "14\n",
            "13\n",
            "12\n",
            "11\n",
            "10\n",
            "9\n",
            "8\n",
            "7\n",
            "6\n",
            "5\n",
            "4\n",
            "3\n",
            "2\n",
            "1\n",
            "0\n"
          ]
        }
      ]
    },
    {
      "cell_type": "markdown",
      "source": [
        "8 - Crie um programa para que retorne o somatório de todos os números entre 1 e um valor fornecido pelo usuário. Por exemplo, se o usuário fornecer o número 4, o computador deverá calcular o somatório 1+ 2 + 3 + 4 = 10."
      ],
      "metadata": {
        "id": "Oc2yjIGqxF3h"
      }
    },
    {
      "cell_type": "code",
      "source": [
        "def somatorio(n):\n",
        "    total = 0\n",
        "    for i in range(1, n+1):\n",
        "        total += i\n",
        "    return total\n",
        "\n",
        "valor = int(input(\"Digite um número: \"))\n",
        "resultado = somatorio(valor)\n",
        "print(f\"O somatório de todos os números entre 1 e {valor} é: {resultado}\")\n"
      ],
      "metadata": {
        "id": "m5gfIfomxGwe",
        "colab": {
          "base_uri": "https://localhost:8080/"
        },
        "outputId": "16ee42d4-97ca-45c3-aa4f-6e8bd5280518"
      },
      "execution_count": 6,
      "outputs": [
        {
          "output_type": "stream",
          "name": "stdout",
          "text": [
            "Digite um número: 12\n",
            "O somatório de todos os números entre 1 e 12 é: 78\n"
          ]
        }
      ]
    },
    {
      "cell_type": "markdown",
      "source": [
        "9 - Escreva um programa que leia a idade e salário de 10 pessoas. Informe em seguida:\n",
        "Qual é a média de idade entre as pessoas?\n",
        "Quantas pessoas há por faixa etária, considerando:\n",
        "jovens < 18\n",
        "18 <= adultos < 60\n",
        "idosos >= 60\n",
        "Em seguida, mostre qual é a faixa etária que acumula o maior salário.\n"
      ],
      "metadata": {
        "id": "5D368hETyJQh"
      }
    },
    {
      "cell_type": "code",
      "source": [
        "jovens = 0\n",
        "adultos = 0\n",
        "idosos = 0\n",
        "idades = []\n",
        "salarios = []\n",
        "\n",
        "for i in range(10):\n",
        "    idade = int(input(f\"Digite a idade da pessoa {i+1}: \"))\n",
        "    salario = float(input(f\"Digite o salário da pessoa {i+1}: \"))\n",
        "    idades.append(idade)\n",
        "    salarios.append(salario)\n",
        "\n",
        "media_idade = sum(idades) / 10\n",
        "for idade in idades:\n",
        "    if idade < 18:\n",
        "        jovens += 1\n",
        "    elif idade < 60:\n",
        "        adultos += 1\n",
        "    else:\n",
        "        idosos += 1\n",
        "\n",
        "soma_salarios_jovens = sum([s for i, s in enumerate(salarios) if idades[i] < 18])\n",
        "soma_salarios_adultos = sum([s for i, s in enumerate(salarios) if 18 <= idades[i] < 60])\n",
        "soma_salarios_idosos = sum([s for i, s in enumerate(salarios) if idades[i] >= 60])\n",
        "\n",
        "print(f\"Média de idade: {media_idade:.2f} anos\")\n",
        "print(f\"Jovens: {jovens}\")\n",
        "print(f\"Adultos: {adultos}\")\n",
        "print(f\"Idosos: {idosos}\")\n",
        "print(f\"Faixa etária com maior salário acumulado: \", end=\"\")\n",
        "if soma_salarios_jovens >= soma_salarios_adultos and soma_salarios_jovens >= soma_salarios_idosos:\n",
        "    print(\"Jovens\")\n",
        "elif soma_salarios_adultos >= soma_salarios_jovens and soma_salarios_adultos >= soma_salarios_idosos:\n",
        "    print(\"Adultos\")\n",
        "else:\n",
        "    print(\"Idosos\")"
      ],
      "metadata": {
        "id": "zZsS7JHm0UY6",
        "colab": {
          "base_uri": "https://localhost:8080/"
        },
        "outputId": "87855a0a-2093-4f0c-a113-fbc210699311"
      },
      "execution_count": null,
      "outputs": [
        {
          "output_type": "stream",
          "name": "stdout",
          "text": [
            "Digite a idade da pessoa 1: 3\n",
            "Digite o salário da pessoa 1: 30000\n",
            "Digite a idade da pessoa 2: 44\n",
            "Digite o salário da pessoa 2: 4444\n",
            "Digite a idade da pessoa 3: 44\n",
            "Digite o salário da pessoa 3: 4444\n",
            "Digite a idade da pessoa 4: 44\n",
            "Digite o salário da pessoa 4: 4444\n",
            "Digite a idade da pessoa 5: 44\n",
            "Digite o salário da pessoa 5: 4444\n",
            "Digite a idade da pessoa 6: 44\n",
            "Digite o salário da pessoa 6: 4444\n",
            "Digite a idade da pessoa 7: 44\n",
            "Digite o salário da pessoa 7: 4444\n",
            "Digite a idade da pessoa 8: 44\n",
            "Digite o salário da pessoa 8: 7777\n",
            "Digite a idade da pessoa 9: 55\n",
            "Digite o salário da pessoa 9: 8888\n",
            "Digite a idade da pessoa 10: 99\n",
            "Digite o salário da pessoa 10: 99\n",
            "Média de idade: 46.50 anos\n",
            "Jovens: 1\n",
            "Adultos: 8\n",
            "Idosos: 1\n",
            "Faixa etária com maior salário acumulado: Adultos\n"
          ]
        }
      ]
    },
    {
      "cell_type": "markdown",
      "source": [
        "10 - Crie uma calculadora simples que realiza operações de adição, subtração, multiplicação, divisão e exponenciação. O programa deve continuar pedindo operações até que o usuário escolha sair.\n"
      ],
      "metadata": {
        "id": "L4xlYJzdhZyV"
      }
    },
    {
      "cell_type": "code",
      "source": [
        "def calculadora():\n",
        "\n",
        "  while True:\n",
        "    escolha = input(\"Qual a operação que deseja?\\n1 para adição\\n2 para subtração\\n3 para multiplicação\\n4 para divisão\\n5 para exponenciação\\n6 para sair\\n\\t\")\n",
        "\n",
        "    if escolha == '6':\n",
        "      print(\"Saindo da calculadora.\")\n",
        "      break\n",
        "\n",
        "    elif escolha in ('1', '2', '3', '4', '5'):\n",
        "      num1 = float(input(\"Digite o primeiro valor: \"))\n",
        "      num2 = float(input(\"Digite o segundo valor: \"))\n",
        "\n",
        "      if escolha == '1':\n",
        "        resultado = num1 + num2\n",
        "        operador = \"+\"\n",
        "\n",
        "      elif escolha == '2':\n",
        "        resultado = num1 - num2\n",
        "        operador = \"-\"\n",
        "\n",
        "      elif escolha == '3':\n",
        "        resultado = num1 * num2\n",
        "        operador = \"*\"\n",
        "\n",
        "      elif escolha == '4':\n",
        "        resultado = num1 / num2\n",
        "        operador = \"/\"\n",
        "\n",
        "      elif escolha == '5':\n",
        "        resultado = num1 ** num2\n",
        "        operador = \"**\"\n",
        "\n",
        "      print(f\"{num1} {operador} {num2} = {resultado}\\n\")\n",
        "    else:\n",
        "      print(\"\\nEssa opção não é válida. Tente novamente.\")\n",
        "\n",
        "calculadora()\n",
        "\n",
        "\n"
      ],
      "metadata": {
        "id": "t1GTUaOshazK",
        "colab": {
          "base_uri": "https://localhost:8080/"
        },
        "outputId": "b43d5d6f-e78d-43ff-ebf9-dc2575bd0156"
      },
      "execution_count": 5,
      "outputs": [
        {
          "output_type": "stream",
          "name": "stdout",
          "text": [
            "Qual a operação que deseja?\n",
            "1 para adição\n",
            "2 para subtração\n",
            "3 para multiplicação\n",
            "4 para divisão\n",
            "5 para exponenciação\n",
            "6 para sair\n",
            "\t3\n",
            "Digite o primeiro valor: 10\n",
            "Digite o segundo valor: 4\n",
            "10.0 * 4.0 = 40.0\n",
            "\n",
            "Qual a operação que deseja?\n",
            "1 para adição\n",
            "2 para subtração\n",
            "3 para multiplicação\n",
            "4 para divisão\n",
            "5 para exponenciação\n",
            "6 para sair\n",
            "\t6\n",
            "Saindo da calculadora.\n"
          ]
        }
      ]
    },
    {
      "cell_type": "markdown",
      "source": [
        "11 - Crie um jogo em que o computador escolha um número aleatório entre 1 e 100, e o jogador tenta adivinhá-lo. O programa deve dar dicas se o número é maior ou menor do que o número digitado pelo jogador. O jogo continua até que o jogador acerte o número."
      ],
      "metadata": {
        "id": "TvOVLvpYhohk"
      }
    },
    {
      "cell_type": "markdown",
      "source": [
        "Exemplo de saída:\n",
        "\n",
        "Bem-vindo ao jogo de adivinhação!\n",
        "\n",
        "Tente adivinhar o número entre 1 e 100.\n",
        "\n",
        "Digite sua tentativa: 50\n",
        "\n",
        "O número é menor.\n",
        "\n",
        "Digite sua tentativa: 75\n",
        "\n",
        "O número é maior.\n",
        "\n",
        "Digite sua tentativa: 63\n",
        "\n",
        "O número é menor.\n",
        "\n",
        "Digite sua tentativa: 68\n",
        "\n",
        "Parabéns! Você acertou o número 68 em 4 tentativas!"
      ],
      "metadata": {
        "id": "GMjNhBcxo3ks"
      }
    },
    {
      "cell_type": "code",
      "source": [
        "import random\n",
        "\n",
        "def jogo_adivinhacao():\n",
        "    numero_secreto = random.randint(1, 100)\n",
        "    tentativas = 0\n",
        "\n",
        "    print(\"Bem-vindo ao jogo de adivinhação!\")\n",
        "    print(\"Tente adivinhar o número entre 1 e 100.\")\n",
        "\n",
        "    while True:\n",
        "        tentativa = int(input(\"Digite sua tentativa: \"))\n",
        "        tentativas += 1\n",
        "\n",
        "        if tentativa == numero_secreto:\n",
        "            print(f\"Parabéns! Você acertou o número {numero_secreto} em {tentativas} tentativas!\")\n",
        "            break\n",
        "        elif tentativa < numero_secreto:\n",
        "            print(\"O número é maior.\")\n",
        "        else:\n",
        "            print(\"O número é menor.\")\n",
        "\n",
        "jogo_adivinhacao()"
      ],
      "metadata": {
        "id": "wD7WVTzdh3Tf",
        "colab": {
          "base_uri": "https://localhost:8080/"
        },
        "outputId": "329511ee-e14a-4ba4-dc37-090e087cf561"
      },
      "execution_count": 11,
      "outputs": [
        {
          "output_type": "stream",
          "name": "stdout",
          "text": [
            "Bem-vindo ao jogo de adivinhação!\n",
            "Tente adivinhar o número entre 1 e 100.\n",
            "Digite sua tentativa: 50\n",
            "O número é maior.\n",
            "Digite sua tentativa: 75\n",
            "O número é menor.\n",
            "Digite sua tentativa: 60\n",
            "O número é menor.\n",
            "Digite sua tentativa: 55\n",
            "O número é maior.\n",
            "Digite sua tentativa: 58\n",
            "O número é menor.\n",
            "Digite sua tentativa: 56\n",
            "O número é maior.\n",
            "Digite sua tentativa: 57\n",
            "Parabéns! Você acertou o número 57 em 7 tentativas!\n"
          ]
        }
      ]
    },
    {
      "cell_type": "markdown",
      "source": [
        "12 - Escreva um programa que calcula o valor de um investimento após um número específico de anos, considerando juros compostos. O usuário deve fornecer o principal (valor inicial do investimento), a taxa de juros anual (em porcentagem) e o número de anos.\n",
        "\n",
        "A fórmula para calcular o valor de um investimento após n anos com juros compostos é:\n",
        "\n",
        "A=P×(1+r)^n\n",
        "\n",
        "\n",
        "Onde:\n",
        "\n",
        "\n",
        "A é o valor do investimento após n anos,\n",
        "\n",
        "P é o principal (valor inicial do investimento),\n",
        "\n",
        "r é a taxa de juros anual (em decimal), e\n",
        "\n",
        "n é o número de anos."
      ],
      "metadata": {
        "id": "528JJZodmafY"
      }
    },
    {
      "cell_type": "markdown",
      "source": [
        "\n",
        "Exemplo de saída:\n",
        "\n",
        "Digite o principal (R$): 1000\n",
        "\n",
        "Digite a taxa de juros anual (%): 5\n",
        "\n",
        "Digite o número de anos: 10\n",
        "\n",
        "O valor do investimento após 10 anos é: R$ 1628.89"
      ],
      "metadata": {
        "id": "-6opTpcXoxNw"
      }
    },
    {
      "cell_type": "code",
      "source": [
        "\n",
        "capital= float(input(\"Qual o valor inicial do investimento? \"))\n",
        "taxa= float(input(\"Qual a taxa de juros anual (%)? : \"))\n",
        "anos= float(input(\"Qual o número de anos de investimento? \"))\n",
        "\n",
        "valor_final = capital * (1 + taxa/100)**anos\n",
        "\n",
        "print(f\"O valor do investimento após {anos} anos é: R$ {valor_final:.2f}\")\n"
      ],
      "metadata": {
        "id": "3XHAThk1oFIT",
        "colab": {
          "base_uri": "https://localhost:8080/"
        },
        "outputId": "ecbf1c16-9368-481b-ad45-2ef7ef0330dc"
      },
      "execution_count": 13,
      "outputs": [
        {
          "output_type": "stream",
          "name": "stdout",
          "text": [
            "Qual o valor inicial do investimento? 1000\n",
            "Qual a taxa de juros anual (%)? : 5\n",
            "Qual o número de anos de investimento? 10\n",
            "O valor do investimento após 10.0 anos é: R$ 1628.89\n"
          ]
        }
      ]
    }
  ]
}