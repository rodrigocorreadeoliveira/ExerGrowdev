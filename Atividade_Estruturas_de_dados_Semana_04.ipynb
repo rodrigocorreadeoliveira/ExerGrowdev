{
  "nbformat": 4,
  "nbformat_minor": 0,
  "metadata": {
    "colab": {
      "provenance": [],
      "include_colab_link": true
    },
    "kernelspec": {
      "name": "python3",
      "display_name": "Python 3"
    },
    "language_info": {
      "name": "python"
    }
  },
  "cells": [
    {
      "cell_type": "markdown",
      "metadata": {
        "id": "view-in-github",
        "colab_type": "text"
      },
      "source": [
        "<a href=\"https://colab.research.google.com/github/rodrigocorreadeoliveira/ExerGrowdev/blob/main/Atividade_Estruturas_de_dados_Semana_04.ipynb\" target=\"_parent\"><img src=\"https://colab.research.google.com/assets/colab-badge.svg\" alt=\"Open In Colab\"/></a>"
      ]
    },
    {
      "cell_type": "markdown",
      "source": [
        "![Growdev](https://www.growdev.com.br/assets/images/logo_growdev.png)"
      ],
      "metadata": {
        "id": "v8pFWwviib2C"
      }
    },
    {
      "cell_type": "markdown",
      "source": [
        "![Formação Engenharia de Dados](https://d335luupugsy2.cloudfront.net/cms/files/524558/1707226566/$occu5m8t1op)"
      ],
      "metadata": {
        "id": "6Tkl4_HxifXZ"
      }
    },
    {
      "cell_type": "markdown",
      "source": [
        "Este material tem como objetivo incentivar a prática dos conteúdos estudados até o momento, e a pesquisa. Tenha em consideração que o exercício foi pensado para incentivar a prática dos conteúdos estudados até então, porém aprender a pesquisar faz parte do processo de aprendizagem.\n",
        "\n",
        "Fique tranquilo, faça os exercícios com calma, e boa prática!\n"
      ],
      "metadata": {
        "id": "ty7Bzyl1i9bN"
      }
    },
    {
      "cell_type": "markdown",
      "source": [
        "#Orientações:\n",
        "\n",
        " - Faça uma copia deste arquivo\n",
        " - Após concluir os exercicios, suba seu exercicio para o GitHub e compartilhe o link no **google** Classroom\n"
      ],
      "metadata": {
        "id": "DU5-yCQwjx3V"
      }
    },
    {
      "cell_type": "markdown",
      "source": [
        "#Exercícios"
      ],
      "metadata": {
        "id": "EzT810tnlmfE"
      }
    },
    {
      "cell_type": "markdown",
      "source": [
        "#Listas"
      ],
      "metadata": {
        "id": "rDqBAimhSq_C"
      }
    },
    {
      "cell_type": "markdown",
      "source": [
        "Para esse exercicio você tera alguns desafios, separei eles em partes, vamos lá?\n",
        "\n",
        "1 - Crie uma lista com 100 números inteiros.\n",
        "- Pode ser uma sequência, ou caso queira se desafiar faça de números aleatorios.\n",
        "- Os dados não devem ser inseridos manualmente, utilize de um laço de repetição para adicionar os elementos a Lista.\n"
      ],
      "metadata": {
        "id": "GoGkz2n-SudC"
      }
    },
    {
      "cell_type": "code",
      "source": [
        "import random\n",
        "numeros = []\n",
        "\n",
        "for i in range(100):\n",
        "    numero_aleatorio = random.randint(1, 80)\n",
        "    numeros.append(numero_aleatorio)\n",
        "\n",
        "print(numeros)"
      ],
      "metadata": {
        "id": "lLYBJr0KSuJW",
        "colab": {
          "base_uri": "https://localhost:8080/"
        },
        "outputId": "243936df-756e-450d-a8dd-18e754ab876e"
      },
      "execution_count": 20,
      "outputs": [
        {
          "output_type": "stream",
          "name": "stdout",
          "text": [
            "[36, 11, 42, 10, 67, 23, 45, 9, 4, 2, 6, 15, 68, 43, 22, 77, 67, 64, 44, 6, 52, 7, 32, 33, 7, 53, 4, 34, 7, 20, 12, 20, 24, 73, 33, 42, 74, 38, 6, 52, 4, 32, 77, 9, 77, 64, 54, 60, 46, 65, 31, 20, 37, 68, 46, 66, 2, 29, 80, 26, 51, 10, 3, 65, 5, 62, 53, 32, 49, 15, 66, 60, 42, 35, 37, 30, 10, 10, 70, 43, 33, 54, 22, 25, 10, 36, 2, 17, 75, 28, 69, 54, 24, 12, 70, 14, 71, 41, 13, 69]\n"
          ]
        }
      ]
    },
    {
      "cell_type": "markdown",
      "source": [
        "2 - Calcule e exiba a soma de todos os números da lista."
      ],
      "metadata": {
        "id": "LQ0SVqxyVTD5"
      }
    },
    {
      "cell_type": "code",
      "source": [
        "soma_total = sum(numeros)\n",
        "print(f\"A soma de todos os {len(numeros)} números é: {soma_total}\")"
      ],
      "metadata": {
        "id": "6HP8yU1bVS0F",
        "colab": {
          "base_uri": "https://localhost:8080/"
        },
        "outputId": "047379ec-09e1-4507-ce89-782c9787e9a7"
      },
      "execution_count": 21,
      "outputs": [
        {
          "output_type": "stream",
          "name": "stdout",
          "text": [
            "A soma de todos os 100 números é: 3664\n"
          ]
        }
      ]
    },
    {
      "cell_type": "markdown",
      "source": [
        "3 - Exiba o maior e o menor número da lista."
      ],
      "metadata": {
        "id": "HYQGLklTTPMx"
      }
    },
    {
      "cell_type": "code",
      "source": [
        "numero_maior = max(numeros)\n",
        "numero_menor = min(numeros)\n",
        "\n",
        "print(f\"O maior número é: {numero_maior}\")\n",
        "print(f\"O menor número é: {numero_menor}\")"
      ],
      "metadata": {
        "id": "q_UZx7EETT6S",
        "colab": {
          "base_uri": "https://localhost:8080/"
        },
        "outputId": "b0e2165d-ad79-4ec3-f2a1-07c56391c21c"
      },
      "execution_count": 22,
      "outputs": [
        {
          "output_type": "stream",
          "name": "stdout",
          "text": [
            "O maior número é: 80\n",
            "O menor número é: 2\n"
          ]
        }
      ]
    },
    {
      "cell_type": "markdown",
      "source": [
        "4 - Pesquise se o número 77 esta presente na lista e exiba:\n",
        "- Quantas vezes esse número aparece na lista\n",
        "- Se aparece em qual ou quais posições(Indice)."
      ],
      "metadata": {
        "id": "1iU6ZtRhVN9i"
      }
    },
    {
      "cell_type": "code",
      "source": [
        "if 77 in numeros:\n",
        "    contagem = numeros.count(77)\n",
        "    print(f\"O número 77 aparece {contagem} vezes na lista.\")\n",
        "\n",
        "    indices = [i for i, x in enumerate(numeros) if x == 77]\n",
        "    print(f\"O número 77 aparece nas posições (índices): {indices}\")\n",
        "else:\n",
        "    print(\"O número 77 não está presente na lista.\")"
      ],
      "metadata": {
        "id": "OGVH4AoGWU2R",
        "colab": {
          "base_uri": "https://localhost:8080/"
        },
        "outputId": "3272e055-e806-45d9-f3ce-80171f322f18"
      },
      "execution_count": 23,
      "outputs": [
        {
          "output_type": "stream",
          "name": "stdout",
          "text": [
            "O número 77 aparece 3 vezes na lista.\n",
            "O número 77 aparece nas posições (índices): [15, 42, 44]\n"
          ]
        }
      ]
    },
    {
      "cell_type": "markdown",
      "source": [
        "5 - Ordene a lista de forma descendente e exiba."
      ],
      "metadata": {
        "id": "jrwycUMvWVSu"
      }
    },
    {
      "cell_type": "code",
      "source": [
        "numeros.sort(reverse=True)\n",
        "print(numeros)"
      ],
      "metadata": {
        "id": "RvRpLp87e5CB",
        "colab": {
          "base_uri": "https://localhost:8080/"
        },
        "outputId": "1593bc40-7363-44cd-e141-9090d65ce2e1"
      },
      "execution_count": 24,
      "outputs": [
        {
          "output_type": "stream",
          "name": "stdout",
          "text": [
            "[80, 77, 77, 77, 75, 74, 73, 71, 70, 70, 69, 69, 68, 68, 67, 67, 66, 66, 65, 65, 64, 64, 62, 60, 60, 54, 54, 54, 53, 53, 52, 52, 51, 49, 46, 46, 45, 44, 43, 43, 42, 42, 42, 41, 38, 37, 37, 36, 36, 35, 34, 33, 33, 33, 32, 32, 32, 31, 30, 29, 28, 26, 25, 24, 24, 23, 22, 22, 20, 20, 20, 17, 15, 15, 14, 13, 12, 12, 11, 10, 10, 10, 10, 10, 9, 9, 7, 7, 7, 6, 6, 6, 5, 4, 4, 4, 3, 2, 2, 2]\n"
          ]
        }
      ]
    },
    {
      "cell_type": "markdown",
      "source": [
        "## Tuplas:"
      ],
      "metadata": {
        "id": "Be68CsC2OftE"
      }
    },
    {
      "cell_type": "markdown",
      "source": [
        "Crie uma tupla com os dias da semana e peça para o usuário digitar um número de 1 a 7. Exiba o dia correspondente."
      ],
      "metadata": {
        "id": "SQzRrAmq1SnR"
      }
    },
    {
      "cell_type": "code",
      "source": [
        "dias_semana = (\"Segunda-feira\", \"Terça-feira\", \"Quarta-feira\", \"Quinta-feira\", \"Sexta-feira\", \"Sábado\", \"Domingo\")\n",
        "\n",
        "numero_dia = int(input(\"Digite um número de 1 a 7: \"))\n",
        "\n",
        "if numero_dia >= 1 and numero_dia <= 7:\n",
        "    print(f\"O dia da semana correspondente ao número {numero_dia} é: {dias_semana[numero_dia - 1]}\")\n",
        "else:\n",
        "    print(\"Número inválido. Digite um número de 1 a 7.\")"
      ],
      "metadata": {
        "id": "7BqDEfeq1TZE",
        "colab": {
          "base_uri": "https://localhost:8080/"
        },
        "outputId": "b98ba7fe-7d59-4b3a-a640-7be46be6b046"
      },
      "execution_count": 27,
      "outputs": [
        {
          "output_type": "stream",
          "name": "stdout",
          "text": [
            "Digite um número de 1 a 7: 5\n",
            "O dia da semana correspondente ao número 5 é: Sexta-feira\n"
          ]
        }
      ]
    },
    {
      "cell_type": "markdown",
      "source": [
        "Crie duas tuplas com números inteiros e crie uma terceira tupla com a concatenação das duas."
      ],
      "metadata": {
        "id": "J9LW9fru7hv6"
      }
    },
    {
      "cell_type": "code",
      "source": [
        "import random\n",
        "\n",
        "tupla1 = (random.randint(1, 100), random.randint(1, 100), random.randint(1, 100))\n",
        "tupla2 = (random.randint(1, 100), random.randint(1, 100), random.randint(1, 100))\n",
        "tupla3 = tupla1 + tupla2\n",
        "print(tupla1)\n",
        "print(tupla2)\n",
        "print(tupla3)\n"
      ],
      "metadata": {
        "id": "J2pBsS-f7idJ",
        "colab": {
          "base_uri": "https://localhost:8080/"
        },
        "outputId": "79a5238a-d2b7-4cb9-8aca-e87cbbbc4800"
      },
      "execution_count": 33,
      "outputs": [
        {
          "output_type": "stream",
          "name": "stdout",
          "text": [
            "(19, 10, 32)\n",
            "(46, 18, 1)\n",
            "(19, 10, 32, 46, 18, 1)\n"
          ]
        }
      ]
    },
    {
      "cell_type": "markdown",
      "source": [
        " Crie uma tupla com alguns elementos e remova um elemento específico."
      ],
      "metadata": {
        "id": "ytDz_SXB7o-8"
      }
    },
    {
      "cell_type": "code",
      "source": [
        "tupla = (10, 20, 30, 40, 50, 60, 70, 80, 90)\n",
        "remove = 40\n",
        "nova_tupla = tuple([x for x in tupla if x != remove])\n",
        "print(nova_tupla)"
      ],
      "metadata": {
        "id": "QvIAx6HP7pbh",
        "colab": {
          "base_uri": "https://localhost:8080/"
        },
        "outputId": "fdfe937f-fa30-48ac-a35a-360034d1d068"
      },
      "execution_count": 39,
      "outputs": [
        {
          "output_type": "stream",
          "name": "stdout",
          "text": [
            "(10, 20, 30, 50, 60, 70, 80, 90)\n"
          ]
        }
      ]
    },
    {
      "cell_type": "markdown",
      "source": [
        "#Sets"
      ],
      "metadata": {
        "id": "v_JM0Has1pPL"
      }
    },
    {
      "cell_type": "markdown",
      "source": [
        "Crie dois sets com cores diferentes e exiba na tela a união dos dois sets."
      ],
      "metadata": {
        "id": "Urrv-Y291roJ"
      }
    },
    {
      "cell_type": "code",
      "source": [
        "cores1 = {\"vermelho\", \"verde\", \"azul\", \"amarelo\", \"laranja\"}\n",
        "cores2 = {\"roxo\", \"rosa\", \"marrom\", \"cinza\", \"preto\"}\n",
        "cores_uniao = cores1.union(cores2)\n",
        "print(f\"Cores do primeiro set:\", cores1)\n",
        "print(f\"Cores do segundo set:\", cores2)\n",
        "print(f\"União dos sets de cores:\", cores_uniao)"
      ],
      "metadata": {
        "id": "FM4S-PEa1zSW",
        "colab": {
          "base_uri": "https://localhost:8080/"
        },
        "outputId": "2292f418-36cb-4dfe-e58b-bd4b22c22d47"
      },
      "execution_count": 44,
      "outputs": [
        {
          "output_type": "stream",
          "name": "stdout",
          "text": [
            "Cores do primeiro set: {'laranja', 'amarelo', 'verde', 'vermelho', 'azul'}\n",
            "Cores do segundo set: {'cinza', 'marrom', 'preto', 'roxo', 'rosa'}\n",
            "União dos sets de cores: {'roxo', 'vermelho', 'azul', 'cinza', 'laranja', 'marrom', 'preto', 'amarelo', 'rosa', 'verde'}\n"
          ]
        }
      ]
    },
    {
      "cell_type": "markdown",
      "source": [
        "Crie uma lista com alguns números repetidos. Converta essa lista em um set para remover as duplicatas e exiba o resultado."
      ],
      "metadata": {
        "id": "0q0tG4eG1zkL"
      }
    },
    {
      "cell_type": "code",
      "source": [
        "numeros = [10, 20, 30, 40, 50, 20, 30, 60, 70, 10]\n",
        "numeros_unicos = set(numeros)\n",
        "print(\"Lista com números repetidos:\", numeros)\n",
        "print(\"Set com números únicos:\", numeros_unicos)"
      ],
      "metadata": {
        "id": "j4okoTWR2I_R",
        "colab": {
          "base_uri": "https://localhost:8080/"
        },
        "outputId": "62fe7422-4f80-474b-d2da-c56f945c672f"
      },
      "execution_count": 46,
      "outputs": [
        {
          "output_type": "stream",
          "name": "stdout",
          "text": [
            "Lista com números repetidos: [10, 20, 30, 40, 50, 20, 30, 60, 70, 10]\n",
            "Set com números únicos: {70, 40, 10, 50, 20, 60, 30}\n"
          ]
        }
      ]
    },
    {
      "cell_type": "markdown",
      "source": [
        "#Dicionários:"
      ],
      "metadata": {
        "id": "4MCBgr-k1fvU"
      }
    },
    {
      "cell_type": "markdown",
      "source": [
        " Crie um dicionário com os nomes de algumas frutas e suas respectivas cores. Exiba na tela somente as frutas que são vermelhas."
      ],
      "metadata": {
        "id": "0A-DeyIMPh4g"
      }
    },
    {
      "cell_type": "code",
      "source": [
        "frutas = {\n",
        "    \"maçã\": \"vermelho\",\n",
        "    \"banana\": \"amarelo\",\n",
        "    \"laranja\": \"laranja\",\n",
        "    \"uva\": \"roxo\",\n",
        "    \"morango\": \"vermelho\",\n",
        "    \"kiwi\": \"verde\"\n",
        "}\n",
        "\n",
        "frutas_vermelhas = []\n",
        "for fruta, cor in frutas.items():\n",
        "    if cor == \"vermelho\":\n",
        "        frutas_vermelhas.append(fruta)\n",
        "print(frutas_vermelhas)\n"
      ],
      "metadata": {
        "id": "7jlD2DV4Pjom",
        "colab": {
          "base_uri": "https://localhost:8080/"
        },
        "outputId": "a6dccd07-b70a-4cee-f0c9-cb9dff4117ab"
      },
      "execution_count": 53,
      "outputs": [
        {
          "output_type": "stream",
          "name": "stdout",
          "text": [
            "['maçã', 'morango']\n"
          ]
        }
      ]
    },
    {
      "cell_type": "markdown",
      "source": [
        "Crie um dicionário com o nome e a idade de três pessoas. Busque por  um nome e exiba a idade correspondente."
      ],
      "metadata": {
        "id": "q-XV14A-PmSa"
      }
    },
    {
      "cell_type": "code",
      "source": [
        "pessoas = {\n",
        "    \"João\": 25,\n",
        "    \"Maria\": 32,\n",
        "    \"Pedro\": 19,\n",
        "    \"Ana\": 28,\n",
        "    \"Lucas\": 22\n",
        "}\n",
        "\n",
        "print(\"Nomes disponíveis no dicionário:\")\n",
        "for nome in pessoas:\n",
        "    print(nome)\n",
        "\n",
        "nome_buscado = input(\"\\nDigite o nome que você deseja buscar: \")\n",
        "\n",
        "if nome_buscado in pessoas:\n",
        "    idade = pessoas[nome_buscado]\n",
        "    print(f\"A idade de {nome_buscado} é {idade} anos.\")\n",
        "else:\n",
        "    print(f\"Não foi encontrado nenhuma pessoa com o nome {nome_buscado}.\")\n"
      ],
      "metadata": {
        "id": "8rPH-lzG2gvh",
        "colab": {
          "base_uri": "https://localhost:8080/"
        },
        "outputId": "1271a772-bb5b-4257-f25a-82beb0d71110"
      },
      "execution_count": 65,
      "outputs": [
        {
          "output_type": "stream",
          "name": "stdout",
          "text": [
            "Nomes disponíveis no dicionário:\n",
            "João\n",
            "Maria\n",
            "Pedro\n",
            "Ana\n",
            "Lucas\n",
            "\n",
            "Digite o nome que você deseja buscar: Ana\n",
            "A idade de 28 é 28 anos.\n"
          ]
        }
      ]
    },
    {
      "cell_type": "markdown",
      "source": [
        "Crie um dicionário com os nomes e idades de algumas pessoas. Peça para o usuário digitar um nome e sua nova idade, e atualize o dicionário com essa informação."
      ],
      "metadata": {
        "id": "yEn6q_MP5SdW"
      }
    },
    {
      "cell_type": "code",
      "source": [
        "pessoas = {\n",
        "    \"João\": 25,\n",
        "    \"Maria\": 32,\n",
        "    \"Pedro\": 19,\n",
        "    \"Ana\": 28,\n",
        "    \"Lucas\": 22\n",
        "}\n",
        "\n",
        "print(\"Nomes disponíveis no dicionário:\")\n",
        "\n",
        "for nomes in pessoas:\n",
        "    print(nomes)\n",
        "\n",
        "nome = input(\"\\nDigite o nome da pessoa: \")\n",
        "nova_idade = int(input(\"Digite a nova idade: \"))\n",
        "\n",
        "pessoas[nome] = nova_idade\n",
        "\n",
        "print(\"\\nDicionário atualizado:\")\n",
        "for nome, idade in pessoas.items():\n",
        "    print(f\"{nome}: {idade} anos\")"
      ],
      "metadata": {
        "id": "H-RHnfMm5TcR",
        "colab": {
          "base_uri": "https://localhost:8080/"
        },
        "outputId": "79583498-20b8-4e62-d0b7-5cd5eb630ce8"
      },
      "execution_count": 73,
      "outputs": [
        {
          "output_type": "stream",
          "name": "stdout",
          "text": [
            "Nomes disponíveis no dicionário:\n",
            "João\n",
            "Maria\n",
            "Pedro\n",
            "Ana\n",
            "Lucas\n",
            "\n",
            "Digite o nome da pessoa: Ana\n",
            "Digite a nova idade: 10\n",
            "\n",
            "Dicionário atualizado:\n",
            "João: 25 anos\n",
            "Maria: 32 anos\n",
            "Pedro: 19 anos\n",
            "Ana: 10 anos\n",
            "Lucas: 22 anos\n"
          ]
        }
      ]
    },
    {
      "cell_type": "markdown",
      "source": [
        "Desafio Dicionários:\n",
        "\n",
        "Busque o código desenvolvido para o exercicio abaixo e altere o algoritmo para:\n",
        "\n",
        " - Salvar o resultado da eleição em um dícionário.\n",
        "\n",
        "\n",
        "Exemplo de saida do dicionario: {\"Candidato 1\": 2, \"Candidato 2\": 2, \"Voto Nulo\": 0, \"Voto Branco\": 1}\n",
        "\n",
        "\n",
        "Este exercicio foi realizado na lista da semana passada, exercicio de número 4:"
      ],
      "metadata": {
        "id": "Jeelh1Xw2hab"
      }
    },
    {
      "cell_type": "markdown",
      "source": [
        "\n",
        "\"Em uma eleição presidencial existem dois candidatos. Os votos são informados através de códigos. Os dados utilizados para a contagem dos votos obedecem à seguinte codificação:\n",
        "\n",
        "1,2 = voto para os respectivos candidatos\n",
        "\n",
        "3 = voto nulo\n",
        "\n",
        "4 = voto em branco;\n",
        "\n",
        "Elabore um programa que leia o código de votação de 5 eleitores. Calcule e escreva: total de votos para cada candidato total de votos nulos total de votos em branco\""
      ],
      "metadata": {
        "id": "cDnoQXk83e5B"
      }
    },
    {
      "cell_type": "code",
      "source": [
        "votos = {\n",
        "    \"Candidato 1\": 0,\n",
        "    \"Candidato 2\": 0,\n",
        "    \"Voto Nulo\": 0,\n",
        "    \"Voto Branco\": 0\n",
        "}\n",
        "\n",
        "print(\"1 = para o candidato 1\\n2 = para o candidato 2\\n3 = voto nulo\\n4 = voto em branco\\n\")\n",
        "\n",
        "for i in range(5):\n",
        "  voto = int(input(\"Digite o seu voto: \"))\n",
        "\n",
        "  if voto == 1:\n",
        "      votos[\"Candidato 1\"] += 1\n",
        "  elif voto == 2:\n",
        "      votos[\"Candidato 2\"] += 1\n",
        "  elif voto == 3:\n",
        "       votos[\"Voto Nulo\"] += 1\n",
        "  elif voto == 4:\n",
        "      votos[\"Voto Branco\"] += 1\n",
        "  else:\n",
        "        print(\"Voto inválido\")\n",
        "\n",
        "print(f\"\\nResultado da votação: {votos}\")"
      ],
      "metadata": {
        "id": "CRlV5NE82kpE",
        "colab": {
          "base_uri": "https://localhost:8080/"
        },
        "outputId": "3605845a-51c4-4272-f735-5faf5f07fa65"
      },
      "execution_count": 78,
      "outputs": [
        {
          "output_type": "stream",
          "name": "stdout",
          "text": [
            "1 = para o candidato 1\n",
            "2 = para o candidato 2\n",
            "3 = voto nulo\n",
            "4 = voto em branco\n",
            "\n",
            "Digite o seu voto: 3\n",
            "Digite o seu voto: 4\n",
            "Digite o seu voto: 4\n",
            "Digite o seu voto: 1\n",
            "Digite o seu voto: 1\n",
            "\n",
            "Resultado da votação: {'Candidato 1': 2, 'Candidato 2': 0, 'Voto Nulo': 1, 'Voto Branco': 2}\n"
          ]
        }
      ]
    },
    {
      "cell_type": "markdown",
      "source": [
        "#Listas por Compreensão:"
      ],
      "metadata": {
        "id": "ffEKF4Kx5eQu"
      }
    },
    {
      "cell_type": "markdown",
      "source": [
        "Crie uma lista com os números Impares de 1 a 20 utilizando listas por compreensão."
      ],
      "metadata": {
        "id": "IrQvRhQM5oj6"
      }
    },
    {
      "cell_type": "code",
      "source": [
        "numeros_impares = [numero for numero in range(1, 21) if numero % 2 != 0]\n",
        "print(numeros_impares)"
      ],
      "metadata": {
        "id": "lqgX2B6x5fLc",
        "colab": {
          "base_uri": "https://localhost:8080/"
        },
        "outputId": "481eef2c-b4c6-4450-efc0-36e34f4a9485"
      },
      "execution_count": 80,
      "outputs": [
        {
          "output_type": "stream",
          "name": "stdout",
          "text": [
            "[1, 3, 5, 7, 9, 11, 13, 15, 17, 19]\n"
          ]
        }
      ]
    },
    {
      "cell_type": "markdown",
      "source": [
        "Crie uma lista com as letras da frase \"Sou estudante de dados\", utilizando listas por compreensão."
      ],
      "metadata": {
        "id": "R2DKj08Z5tqJ"
      }
    },
    {
      "cell_type": "code",
      "source": [
        "letras = [letra for letra in \"Sou estudante de dados\"]\n",
        "print(letras)"
      ],
      "metadata": {
        "colab": {
          "base_uri": "https://localhost:8080/"
        },
        "id": "Dcm79EUzta7q",
        "outputId": "83e99603-8b1c-43e7-c523-ed0eb289ea05"
      },
      "execution_count": 81,
      "outputs": [
        {
          "output_type": "stream",
          "name": "stdout",
          "text": [
            "['S', 'o', 'u', ' ', 'e', 's', 't', 'u', 'd', 'a', 'n', 't', 'e', ' ', 'd', 'e', ' ', 'd', 'a', 'd', 'o', 's']\n"
          ]
        }
      ]
    }
  ]
}