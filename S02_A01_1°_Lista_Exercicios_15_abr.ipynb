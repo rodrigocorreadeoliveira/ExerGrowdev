{
  "cells": [
    {
      "cell_type": "markdown",
      "metadata": {
        "id": "h-xJ2RDYr0L6"
      },
      "source": [
        "**Exercícios:**"
      ]
    },
    {
      "cell_type": "markdown",
      "metadata": {
        "id": "z-hQf20mr5wO"
      },
      "source": [
        "1 - Conversão de graus Celsius para Fahrenheit – Crie um programa que converta graus Celsius em Fahrenheit. A fórmula é a seguinte:\n",
        "           F = (9/5)*C + 32\n"
      ]
    },
    {
      "cell_type": "code",
      "execution_count": null,
      "metadata": {
        "colab": {
          "base_uri": "https://localhost:8080/"
        },
        "id": "L13dQcttrv4Z",
        "outputId": "83907419-b60a-48c2-ecab-6e00ec00fcc0"
      },
      "outputs": [
        {
          "name": "stdout",
          "output_type": "stream",
          "text": [
            "Digite a temperatura em Graus Celsius: 5.5\n",
            "A temperatura de 5.5°C em Graus Fahrenheit é de 41.9°F\n"
          ]
        }
      ],
      "source": [
        "C = float(input('Digite a temperatura em Graus Celsius: '))\n",
        "F = (9/5)*C + 32\n",
        "print(f\"A temperatura de {C}°C em Graus Fahrenheit é de {F}°F\")"
      ]
    },
    {
      "cell_type": "code",
      "execution_count": null,
      "metadata": {
        "colab": {
          "base_uri": "https://localhost:8080/"
        },
        "id": "I9zK4dWrsZ3E",
        "outputId": "47cf8285-1c18-46f8-8096-710cbcc0f69a"
      },
      "outputs": [
        {
          "name": "stdout",
          "output_type": "stream",
          "text": [
            "Agora digite a temperatura em Graus Fahrenheit: 5\n",
            "A temperatura de 5.0°F em Graus Celcius é de -15.0°F\n"
          ]
        }
      ],
      "source": [
        "F = float(input('Agora digite a temperatura em Graus Fahrenheit: '))\n",
        "C = (5/9)*(F-32)\n",
        "print(f\"A temperatura de {F}°F em Graus Celcius é de {C}°F\")"
      ]
    },
    {
      "cell_type": "markdown",
      "metadata": {
        "id": "qjxzyscktggP"
      },
      "source": [
        "2- Escreva um programa que receba um número e escreva “Par” caso esse número seja par e escreva “Impar” caso esse número seja impar."
      ]
    },
    {
      "cell_type": "code",
      "execution_count": null,
      "metadata": {
        "colab": {
          "base_uri": "https://localhost:8080/"
        },
        "id": "SR5HfHS5vQ_I",
        "outputId": "055d5401-97c2-4eef-81c9-93491fa37a20"
      },
      "outputs": [
        {
          "name": "stdout",
          "output_type": "stream",
          "text": [
            "Digite um numero: 4\n",
            "O numero 4 é PAR\n"
          ]
        }
      ],
      "source": [
        "num = int(input('Digite um numero: '))\n",
        "resto = num %2\n",
        "if resto == 0:\n",
        "    print(f\"O numero {num} é PAR\")\n",
        "else:\n",
        "    print(f\"O numero {num} é IMPAR\")"
      ]
    },
    {
      "cell_type": "markdown",
      "metadata": {
        "id": "YvVWbtUSvcUn"
      },
      "source": [
        "3 - Escreva um programa que receba dois números, exiba as opções:\n",
        "1 - adição\n",
        "2 - subtração\n",
        "Então peça ao usuário para escolher uma das opções. Caso escolha a opção 1 o programa\n",
        "deve realizar a soma dos dois números lidos e exibir. Caso escolha a opção 2 o programa\n",
        "deve realizar a subtração dos dois números lidos e exibir."
      ]
    },
    {
      "cell_type": "code",
      "execution_count": null,
      "metadata": {
        "colab": {
          "base_uri": "https://localhost:8080/"
        },
        "id": "IJSR8a5wvde_",
        "outputId": "d7137f31-07f5-48e3-cc36-11318b497d74"
      },
      "outputs": [
        {
          "name": "stdout",
          "output_type": "stream",
          "text": [
            "Digite o primeiro numero: 80\n",
            "Digite o segundo numero: 50\n",
            "Digite 1 para somar os dois numeros ou digite 2 subtrair os dois numeros digitado anteriormente: 2\n",
            "A subtração dos dois números é 30\n"
          ]
        }
      ],
      "source": [
        "N1 = int(input('Digite o primeiro numero: '))\n",
        "N2 = int(input('Digite o segundo numero: '))\n",
        "OP = int(input('Digite 1 para somar os dois numeros ou digite 2 subtrair os dois numeros digitado anteriormente: '))\n",
        "if OP == 1:\n",
        "  S1 = N1 + N2\n",
        "  print(f\"A soma dos dois números é {S1}\")\n",
        "elif OP == 2:\n",
        "  S2 = N1 - N2\n",
        "  print(f\"A subtração dos dois números é {S2}\")\n",
        "else:\n",
        "  print(f\"Opção errada\")"
      ]
    },
    {
      "cell_type": "markdown",
      "metadata": {
        "id": "FqAyOR0bxc5G"
      },
      "source": [
        "4 - Numa determinada escola, os critérios de aprovação são os seguintes:\n",
        "- O aluno deve ter, no máximo, 25% de faltas;\n",
        "- A nota final deve ser igual ou superior a 7,00.\n",
        "\n",
        "Construa um programa para ler as notas que um aluno tirou nos 4 bimestres, o número total de aulas e o número de faltas, mostrando ao final a situação do aluno como sendo “Aprovado”, “Reprovado por Faltas” e “Reprovado por média”, considerando que a reprovação por faltas se sobrepõe a reprovação por nota."
      ]
    },
    {
      "cell_type": "code",
      "execution_count": null,
      "metadata": {
        "colab": {
          "base_uri": "https://localhost:8080/"
        },
        "id": "HF7PsD6ywWvg",
        "outputId": "660557bd-df12-4749-90e9-7b8549c9973c"
      },
      "outputs": [
        {
          "name": "stdout",
          "output_type": "stream",
          "text": [
            "Digite a nota do primeiro bimestre: 7\n",
            "Digite a nota do segundo bimestre: 8\n",
            "Digite a nota do terceiro bimestre: 7\n",
            "Digite a nota do quartos bimestre: 9\n",
            "Digite quantas aulas teve no ano: 100\n",
            "Digite quantas faltas teve no ano: 10\n",
            "Aprovado\n"
          ]
        }
      ],
      "source": [
        "P1 = int(input('Digite a nota do primeiro bimestre: '))\n",
        "P2 = int(input('Digite a nota do segundo bimestre: '))\n",
        "P3 = int(input('Digite a nota do terceiro bimestre: '))\n",
        "P4 = int(input('Digite a nota do quartos bimestre: '))\n",
        "\n",
        "Aula = int(input('Digite quantas aulas teve no ano: '))\n",
        "Falta = int(input('Digite quantas faltas teve no ano: '))\n",
        "\n",
        "Faltas = Falta/Aula\n",
        "M1 = (P1 +P2 + P3 +P4)/4\n",
        "\n",
        "if Faltas > 0.25:\n",
        "  print(\"Reprovado por Faltas\")\n",
        "elif M1 < 7:\n",
        "  print(\"Reprovado por Média\")\n",
        "else:\n",
        "  print(\"Aprovado\")\n",
        "\n"
      ]
    },
    {
      "cell_type": "markdown",
      "metadata": {
        "id": "gwtx_N7y_Qz8"
      },
      "source": [
        "5 - Após construir o programa anterior, crie mais duas versões dele para prever as seguintes situações:\n",
        "\n",
        "- Um aluno pode ficar em recuperação se possuir frequência suficiente (superior a 75%) e média superior a 5 mas inferior a 7;\n",
        "- Caso um aluno reprove por média e faltas, sua situação deve ser “Reprovado por\n",
        "Média e Faltas” (ao invés de simplesmente “Reprovado por Faltas” como antes)."
      ]
    },
    {
      "cell_type": "code",
      "execution_count": null,
      "metadata": {
        "colab": {
          "base_uri": "https://localhost:8080/"
        },
        "id": "kyze8MHv_acT",
        "outputId": "58905bf9-7aba-4bda-9dc5-cc8c0d65a85a"
      },
      "outputs": [
        {
          "name": "stdout",
          "output_type": "stream",
          "text": [
            "Digite a nota do primeiro bimestre: 7\n",
            "Digite a nota do segundo bimestre: 5\n",
            "Digite a nota do terceiro bimestre: 2\n",
            "Digite a nota do quartos bimestre: 4\n",
            "Digite quantas aulas teve no ano: 100\n",
            "Digite quantas faltas teve no ano: 25\n",
            "Sua Nota é de 4.5\n",
            "Sua frequencia é de 75.0%\n"
          ]
        }
      ],
      "source": [
        "P1 = int(input('Digite a nota do primeiro bimestre: '))\n",
        "P2 = int(input('Digite a nota do segundo bimestre: '))\n",
        "P3 = int(input('Digite a nota do terceiro bimestre: '))\n",
        "P4 = int(input('Digite a nota do quartos bimestre: '))\n",
        "\n",
        "Aula = int(input('Digite quantas aulas teve no ano: '))\n",
        "Falta = int(input('Digite quantas faltas teve no ano: '))\n",
        "\n",
        "Faltas = Falta/Aula\n",
        "M1 = (P1 +P2 + P3 +P4)/4\n",
        "\n",
        "print(f\"Sua Nota é de {M1}\")\n",
        "print(f\"Sua frequencia é de {(1-Faltas)*100}%\")\n",
        "\n",
        "if Faltas >= 0.25 and M1 <= 7:\n",
        "  print(\"Reprovado por Média e Faltas\")\n",
        "\n",
        "elif Faltas >= 0.25:\n",
        "  print(\"Reprovado por Faltas\")\n",
        "\n",
        "elif M1 <= 7:\n",
        "  if Faltas <= 0.25:\n",
        "    if M1 >= 5 and M1 <= 7:\n",
        "      print(\"Em recuperção\")\n",
        "    else:\n",
        "      print(\"Reprovado por Média\")\n",
        "else:\n",
        "  print(\"Aprovado\")"
      ]
    },
    {
      "cell_type": "code",
      "execution_count": null,
      "metadata": {
        "id": "3M-HCyJ__7T8"
      },
      "outputs": [],
      "source": []
    },
    {
      "cell_type": "markdown",
      "metadata": {
        "id": "QWUnLTUNI_v8"
      },
      "source": [
        "6 - Escreva um programa que peça ao usuário para fornecer um dia, mês e o ano arbitrários e determine se esses dados correspondem a uma data válida. Não deixe de considerar que existem meses com 30 e 31 dias, e que fevereiro pode ter 28 ou 29 dias, dependendo se o ano for bissexto. Considere que um ano é bissexto quando for divisível por 4."
      ]
    },
    {
      "cell_type": "code",
      "execution_count": 3,
      "metadata": {
        "colab": {
          "base_uri": "https://localhost:8080/"
        },
        "id": "8gTem39GJUgR",
        "outputId": "e6c43a5a-a8ee-4cd5-a3c9-97272dba55eb"
      },
      "outputs": [
        {
          "name": "stdout",
          "output_type": "stream",
          "text": [
            "Digite o dia: 5\n",
            "Digite o mês: 4\n",
            "Digite o ano: 1122\n",
            "A data fornecida é válida.\n"
          ]
        }
      ],
      "source": [
        "# Solicita ao usuário para fornecer dia, mês e ano\n",
        "dia = int(input(\"Digite o dia: \"))\n",
        "mes = int(input(\"Digite o mês: \"))\n",
        "ano = int(input(\"Digite o ano: \"))\n",
        "\n",
        "def data_valida(dia, mes, ano):\n",
        "    # Verifica se o ano é bissexto\n",
        "    if ano % 4 == 0:\n",
        "        bissexto = True\n",
        "    else:\n",
        "        bissexto = False\n",
        "\n",
        "    # Verifica se o mês é válido\n",
        "    if mes < 1 or mes > 12:\n",
        "        return False\n",
        "\n",
        "    # Verifica se o dia é válido de acordo com o mês\n",
        "    if mes in [1, 3, 5, 7, 8, 10, 12]:\n",
        "        max_dias = 31\n",
        "    elif mes in [4, 6, 9, 11]:\n",
        "        max_dias = 30\n",
        "    elif mes == 2:\n",
        "        if bissexto:\n",
        "            max_dias = 29\n",
        "        else:\n",
        "            max_dias = 28\n",
        "    else:\n",
        "        return False\n",
        "\n",
        "    if dia < 1 or dia > max_dias:\n",
        "        return False\n",
        "\n",
        "    return True\n",
        "\n",
        "\n",
        "\n",
        "# Verifica se a data fornecida é válida\n",
        "if data_valida(dia, mes, ano):\n",
        "    print(\"A data fornecida é válida.\")\n",
        "else:\n",
        "    print(\"A data fornecida é inválida.\")"
      ]
    },
    {
      "cell_type": "markdown",
      "metadata": {
        "id": "D1L7VjbOXESV"
      },
      "source": [
        "7- Construa um programa que leia uma data qualquer (dia, mês e ano) e calcule a data do próximo dia. Lembre-se que em anos bissextos o mês de fevereiro tem 29 dias. Lembre-se que um ano é bissexto quando for divisível por 4."
      ]
    },
    {
      "cell_type": "code",
      "execution_count": 27,
      "metadata": {
        "colab": {
          "base_uri": "https://localhost:8080/"
        },
        "id": "ITwWYOhBXHu0",
        "outputId": "c57881e3-2b41-450d-fc9d-46a91b5bc0fd"
      },
      "outputs": [
        {
          "name": "stdout",
          "output_type": "stream",
          "text": [
            "Digite o dia: 5\n",
            "Digite o mês: 5\n",
            "Digite o ano: 2020\n",
            "A data do próximo dia é: 6/5/2020\n"
          ]
        }
      ],
      "source": [
        "def eh_bissexto(ano):\n",
        "    \"\"\"Verifica se o ano é bissexto.\"\"\"\n",
        "    if ano % 4 == 0 and (ano % 100 != 0 or ano % 400 == 0):\n",
        "        return True\n",
        "    else:\n",
        "        return False\n",
        "\n",
        "def proximo_dia(dia, mes, ano):\n",
        "    \"\"\"Calcula a data do próximo dia.\"\"\"\n",
        "    # Lista de dias por mês\n",
        "    dias_por_mes = [31, 28, 31, 30, 31, 30, 31, 31, 30, 31, 30, 31]\n",
        "\n",
        "    # Verifica se o ano é bissexto e ajusta a quantidade de dias em fevereiro\n",
        "    if eh_bissexto(ano):\n",
        "        dias_por_mes[1] = 29\n",
        "\n",
        "    # Verifica se o dia é o último dia do mês\n",
        "    if dia == dias_por_mes[mes - 1]:\n",
        "        dia = 1\n",
        "        # Verifica se o mês é dezembro, se sim, o próximo mês será janeiro do próximo ano\n",
        "        if mes == 12:\n",
        "            mes = 1\n",
        "            ano += 1\n",
        "        else:\n",
        "            mes += 1\n",
        "    else:\n",
        "        dia += 1\n",
        "\n",
        "    return dia, mes, ano\n",
        "\n",
        "# Entrada de dados\n",
        "dia = int(input(\"Digite o dia: \"))\n",
        "mes = int(input(\"Digite o mês: \"))\n",
        "ano = int(input(\"Digite o ano: \"))\n",
        "\n",
        "# Calcula a data do próximo dia\n",
        "prox_dia, prox_mes, prox_ano = proximo_dia(dia, mes, ano)\n",
        "\n",
        "# Saída de dados\n",
        "print(f\"A data do próximo dia é: {prox_dia}/{prox_mes}/{prox_ano}\")\n"
      ]
    },
    {
      "cell_type": "markdown",
      "metadata": {
        "id": "pgjKOLbcmyhi"
      },
      "source": [
        "8 - Faça um programa que leia as duas notas parciais obtidas por um aluno numa disciplina ao longo de um semestre, e calcule a sua média. A atribuição de conceitos obedece à tabela abaixo:\n",
        "Média de Aproveitamento\n",
        "- Entre 9.0 e 10.0 Conceito - A\n",
        "- Entre 7.5 e 8.9 - B\n",
        "- Entre 6.0 e 7.4 - C\n",
        "- Entre 4.0 e 5.9 - D\n",
        "- Entre 0 e 3.9 - E\n",
        "\n",
        "O programa deve mostrar na tela as notas, a média, o conceito correspondente e a mensagem:\n",
        "APROVADO se o conceito for A, B ou C.\n",
        "REPROVADO se o conceito for D ou E."
      ]
    },
    {
      "cell_type": "code",
      "execution_count": 33,
      "metadata": {
        "colab": {
          "base_uri": "https://localhost:8080/"
        },
        "id": "QUtkDlhNm5ZY",
        "outputId": "2854291b-c6de-415a-d1e3-c2b39838f9c3"
      },
      "outputs": [
        {
          "name": "stdout",
          "output_type": "stream",
          "text": [
            "Digite a primeira nota: 9\n",
            "Digite a segunda nota: 10\n",
            "Suas notas foram 9 e 10 e média 9.5, seu conceito foi A, você foi APROVADO\n"
          ]
        }
      ],
      "source": [
        "N1 = int(input('Digite a primeira nota: '))\n",
        "N2 = int(input('Digite a segunda nota: '))\n",
        "\n",
        "media = (N1 + N2)/2\n",
        "\n",
        "\n",
        "if media >= 9.0 and media <= 10.0:\n",
        "  conceito = 'A'\n",
        "elif media >= 7.5 and media <= 8.9:\n",
        "  conceito = 'B'\n",
        "elif media >= 6.0 and media <= 7.4:\n",
        "  conceito = 'C'\n",
        "elif media >= 4.0 and media <= 5.9:\n",
        "  conceito = 'D'\n",
        "else:\n",
        "  conceito = 'E'\n",
        "\n",
        "if conceito in ['A', 'B', 'C']:\n",
        "  print(f'Suas notas foram {N1} e {N2} e média {media}, seu conceito foi {conceito}, você foi APROVADO')\n",
        "else:\n",
        "  print(f'Suas notas foram {N1} e {N2} e média {media}, seu conceito foi {conceito}, você foi REPROVADO')\n",
        "\n"
      ]
    },
    {
      "cell_type": "markdown",
      "metadata": {
        "id": "_FzN91sasT0w"
      },
      "source": [
        "9 - As Organizações XTC resolveram dar um aumento de salário aos seus colaboradores e lhe contrataram para desenvolver o programa que calcula os reajustes. Faça um programa que recebe o salário de um colaborador e o reajuste segundo o seguinte critério, baseado no salário atual:\n",
        "- salários até R$ 280,00 (incluindo): aumento de 20%\n",
        "- salários entre R$ 280,00 e R$ 700,00: aumento de 15%\n",
        "- salários entre R$ 700,00 e R$ 1500,00: aumento de 10%\n",
        "- salários de R$ 1500,00 em diante: aumento de 5%\n",
        "Após o aumento ser realizado informe na tela:\n",
        "- o salário antes do reajuste;\n",
        "- o percentual de aumento aplicado;\n",
        "- o valor do aumento;\n",
        "- o novo salário, após o aumento."
      ]
    },
    {
      "cell_type": "code",
      "execution_count": 39,
      "metadata": {
        "colab": {
          "base_uri": "https://localhost:8080/"
        },
        "id": "27HCppiesZfT",
        "outputId": "af5009cc-61b8-49b4-87bc-aa903f28bc45"
      },
      "outputs": [
        {
          "name": "stdout",
          "output_type": "stream",
          "text": [
            "Digite o salario atual: 2000\n",
            "O salario anterior era de R$ 2000.0, seu reajuste foi de 5%,\n",
            " o valor do reajuste foi de 100.0 e seu novo salario é de R$ 2100.0\n"
          ]
        }
      ],
      "source": [
        "Salario_atual = float(input('Digite o salario atual: '))\n",
        "\n",
        "if Salario_atual <= 280:\n",
        "  aumento = 20\n",
        "elif Salario_atual <= 700:\n",
        "  aumento = 15\n",
        "elif Salario_atual <= 1500:\n",
        "  aumento = 10\n",
        "else:\n",
        "  aumento = 5\n",
        "\n",
        "valor_reajuste = Salario_atual * (aumento/100)\n",
        "novo_salario = Salario_atual + valor_reajuste\n",
        "\n",
        "print(f'O salario anterior era de R$ {Salario_atual}, seu reajuste foi de {aumento}%,\\n o valor do reajuste foi de {valor_reajuste} e seu novo salario é de R$ {novo_salario}')"
      ]
    },
    {
      "cell_type": "markdown",
      "metadata": {},
      "source": [
        "Novo Teste de Git Hub"
      ]
    }
  ],
  "metadata": {
    "colab": {
      "provenance": []
    },
    "kernelspec": {
      "display_name": "Python 3",
      "name": "python3"
    },
    "language_info": {
      "name": "python"
    }
  },
  "nbformat": 4,
  "nbformat_minor": 0
}
