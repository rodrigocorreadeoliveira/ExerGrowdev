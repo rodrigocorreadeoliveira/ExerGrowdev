{
  "cells": [
    {
      "cell_type": "markdown",
      "metadata": {
        "id": "v8pFWwviib2C"
      },
      "source": [
        "![Growdev](https://www.growdev.com.br/assets/images/logo_growdev.png)"
      ]
    },
    {
      "cell_type": "markdown",
      "metadata": {
        "id": "6Tkl4_HxifXZ"
      },
      "source": [
        "![Formação Engenharia de Dados](https://d335luupugsy2.cloudfront.net/cms/files/524558/1707226566/$occu5m8t1op)"
      ]
    },
    {
      "cell_type": "markdown",
      "metadata": {
        "id": "ty7Bzyl1i9bN"
      },
      "source": [
        "Este material tem como objetivo incentivar a prática dos conteúdos estudados até o momento, e a pesquisa. Tenha em consideração que o exercício foi pensado para incentivar a prática dos conteúdos estudados até então, porém aprender a pesquisar faz parte do processo de aprendizagem.\n",
        "\n",
        "Fique tranquilo, faça os exercícios com calma, e boa prática!\n"
      ]
    },
    {
      "cell_type": "markdown",
      "metadata": {
        "id": "DU5-yCQwjx3V"
      },
      "source": [
        "#Orientações:\n",
        "\n",
        " - Faça uma copia deste arquivo\n",
        " - Após concluir os exercicios, suba seu exercicio para o GitHub e compartilhe o link no **google** Classroom\n"
      ]
    },
    {
      "cell_type": "markdown",
      "metadata": {
        "id": "EzT810tnlmfE"
      },
      "source": [
        "#Exercícios"
      ]
    },
    {
      "cell_type": "markdown",
      "metadata": {
        "id": "rDqBAimhSq_C"
      },
      "source": [
        "#Funções"
      ]
    },
    {
      "cell_type": "markdown",
      "metadata": {
        "id": "AkBqdNST8bCY"
      },
      "source": [
        "Escreva uma função chamada soma que recebe dois números como parâmetros e retorna a soma deles"
      ]
    },
    {
      "cell_type": "code",
      "execution_count": 4,
      "metadata": {
        "id": "J427Pi2p8THC"
      },
      "outputs": [],
      "source": [
        "def soma(a, b):\n",
        " return a + b"
      ]
    },
    {
      "cell_type": "markdown",
      "metadata": {
        "id": "NAa3MBAM830W"
      },
      "source": [
        "Escreva uma função chamada verificar_paridade que recebe um número como parâmetro e retorna True se for par e False se for ímpar."
      ]
    },
    {
      "cell_type": "code",
      "execution_count": 6,
      "metadata": {
        "id": "CRlV5NE82kpE"
      },
      "outputs": [
        {
          "name": "stdout",
          "output_type": "stream",
          "text": [
            "False\n"
          ]
        }
      ],
      "source": [
        "def verificar_paridade():\n",
        "    numero = int(input(\"Digite um número: \"))\n",
        "    if numero % 2 == 0:\n",
        "        return True\n",
        "    else:\n",
        "        return False\n",
        "\n",
        "print(verificar_paridade())\n"
      ]
    },
    {
      "cell_type": "markdown",
      "metadata": {
        "id": "S7Rh1p4N8_dp"
      },
      "source": [
        "Escreva uma função chamada verificar_palindromo que recebe uma string como parâmetro e retorna True se for um palíndromo (uma palavra que é igual se lida da esquerda para a direita e vice-versa) e False caso contrário."
      ]
    },
    {
      "cell_type": "code",
      "execution_count": 8,
      "metadata": {
        "id": "jY3rGEWc9Gb5"
      },
      "outputs": [
        {
          "name": "stdout",
          "output_type": "stream",
          "text": [
            "True\n"
          ]
        }
      ],
      "source": [
        "def verificar_palindromo(string):\n",
        "    string_invertida = string[::-1]\n",
        "    if string == string_invertida:\n",
        "        return True\n",
        "    else:\n",
        "        return False\n",
        "\n",
        "palavra = input(\"Digite uma palavra para verificar se é um palíndromo: \")\n",
        "print(verificar_palindromo(palavra))"
      ]
    },
    {
      "cell_type": "markdown",
      "metadata": {
        "id": "suLU217H9G51"
      },
      "source": [
        "##Desafio listas e funções:"
      ]
    },
    {
      "cell_type": "markdown",
      "metadata": {
        "id": "zv3Edx_T-TF5"
      },
      "source": [
        "Crie uma função que representa o jogo batalha naval.\n",
        "\n",
        "Dentro da função crie uma estrutura bidimensional utilizando listas com sublistas para representar um tabuleiro (1 lista com 20 elementos e cada elemento é uma lista de 20 elementos, tabuleiro 20x20). Cada posição irá armazenar 1 valor numérico que significa:\n",
        "- 0 - Água\n",
        "- 1 - Navio\n",
        "\n",
        "Para cada posição escolha esses valores aleatoriamente, respeitando a regra de que não podem existir mais de 20 navios no tabuleiro.\n",
        "\n",
        "Após os valores serem distribuídos, o programa deve pedir ao usuário uma posição do tabuleiro e informar se ele acertou um navio ou água e repetir o procedimento até que o usuário derrote todos os navios ou chegue ao limite de 35 tentativas.\n",
        "\n"
      ]
    },
    {
      "cell_type": "code",
      "execution_count": null,
      "metadata": {
        "id": "BhHWwg54-H1j"
      },
      "outputs": [],
      "source": [
        "\n",
        "matriz = [[0 for x in range(20)] for y in range(20)]\n",
        "jogo = [[0 for x in range(20)] for y in range(20)]\n",
        "\n",
        "import random\n",
        "from IPython.display import clear_output\n",
        "\n",
        "#Solicitando o número de navios\n",
        "navios = int(input(\"Digite o número de navios:(1-20)\"))\n",
        "while navios <1 and navios >20:\n",
        "     navios = int(input(\"Número inválido: Digite o número de navios:(1-20)\"))\n",
        "\n",
        "#Adicionando os navios na matriz\n",
        "for i in range(navios):\n",
        "    linha = random.randint(0, 19)\n",
        "    coluna = random.randint(0, 19)\n",
        "    while matriz[linha][coluna] == 1:\n",
        "        linha = random.randint(0, 19)\n",
        "        coluna = random.randint(0, 19)\n",
        "    matriz[linha][coluna] = 1\n",
        "\n",
        "for linha in matriz:\n",
        "        print(' '.join(map(str, linha)))\n",
        "#Ínicio do jogo\n",
        "\n",
        "print('--------BATALHA NAVAL--------')\n",
        "for linha in jogo:\n",
        "        print(' '.join(map(str, linha)))\n",
        "\n",
        "rodadas = 35\n",
        "\n",
        "#loop principal\n",
        "while navios != 0:\n",
        "    #solicitando alvo\n",
        "    linha = int(input(\"Digite a linha do alvo (0-19): \"))\n",
        "    coluna = int(input(\"Digite a coluna do alvo (0-19): \"))\n",
        "    if linha < 0 or linha > 19 or coluna < 0 or coluna > 19:\n",
        "        print(\"Posição inválida. Tente novamente.\")\n",
        "        continue\n",
        "\n",
        "    #verificando acerto\n",
        "    elif matriz[linha][coluna] == 1:\n",
        "        jogo[linha][coluna] = \"X\"\n",
        "        clear_output(wait=True)\n",
        "        print(\"Parabéns! Você acertou um Navio! X = Navio /// . = Água\")\n",
        "        for linha in jogo:\n",
        "            print(' '.join(map(str, linha)))\n",
        "        navios -= 1\n",
        "        rodadas -= 1\n",
        "        print(navios)\n",
        "        print(rodadas)\n",
        "        if rodadas == 0:\n",
        "             break\n",
        "\n",
        "    else:\n",
        "        jogo[linha][coluna] = \".\"\n",
        "        clear_output(wait=True)\n",
        "        print(\"Você acertou a água!X = Navio /// . = Água\")\n",
        "        for linha in jogo:\n",
        "            print(' '.join(map(str, linha)))\n",
        "        rodadas -= 1\n",
        "        print(rodadas)\n",
        "\n",
        "    if rodadas == 0:\n",
        "          break\n",
        "\n",
        "# fim do jogo\n",
        "for i in range(10): #para melhor funcionamento do clear_output\n",
        "    clear_output(wait=True)\n",
        "    print(\"Fim de jogo\")\n",
        "\n",
        "for linha in jogo:\n",
        "    print(' '.join(map(str, linha)))"
      ]
    },
    {
      "cell_type": "markdown",
      "metadata": {
        "id": "WUXJN6Dg_GET"
      },
      "source": [
        "Modifique o programa anterior para exibir as seguintes estatísticas.\n",
        "- Acertos em água\n",
        "- Acertos em Navios\n",
        "- Porcentagem de acertos em água\n",
        "- Porcentagem de acertos em Navios\n",
        "- Acertos ininterruptos (maior quantidade de acertos em sequência)"
      ]
    },
    {
      "cell_type": "code",
      "execution_count": null,
      "metadata": {
        "id": "N5itlDvd_Hbi"
      },
      "outputs": [],
      "source": [
        "matriz = [[0 for x in range(20)] for y in range(20)]\n",
        "jogo = [[0 for x in range(20)] for y in range(20)]\n",
        "\n",
        "import random\n",
        "from IPython.display import clear_output\n",
        "\n",
        "# Solicitando o número de navios\n",
        "navios = int(input(\"Digite o número de navios (1-20): \"))\n",
        "while navios < 1 or navios > 20:\n",
        "    navios = int(input(\"Número inválido. Digite o número de navios (1-20): \"))\n",
        "\n",
        "# Adicionando os navios na matriz\n",
        "for i in range(navios):\n",
        "    linha = random.randint(0, 19)\n",
        "    coluna = random.randint(0, 19)\n",
        "    while matriz[linha][coluna] == 1:\n",
        "        linha = random.randint(0, 19)\n",
        "        coluna = random.randint(0, 19)\n",
        "    matriz[linha][coluna] = 1\n",
        "\n",
        "for linha in matriz:\n",
        "    print(' '.join(map(str, linha)))\n",
        "\n",
        "# Ínicio do jogo\n",
        "print('--------BATALHA NAVAL--------')\n",
        "for linha in jogo:\n",
        "    print(' '.join(map(str, linha)))\n",
        "\n",
        "rodadas = 5\n",
        "acertos_agua = 0\n",
        "acertos_navios = 0\n",
        "acertos_sequencia = 0\n",
        "max_acertos_sequencia = 0\n",
        "\n",
        "# Loop principal\n",
        "while navios != 0 and rodadas != 0:\n",
        "    # Solicitando alvo\n",
        "    linha = int(input(\"Digite a linha do alvo (0-19): \"))\n",
        "    coluna = int(input(\"Digite a coluna do alvo (0-19): \"))\n",
        "    if linha < 0 or linha > 19 or coluna < 0 or coluna > 19:\n",
        "        print(\"Posição inválida. Tente novamente.\")\n",
        "        continue\n",
        "\n",
        "    # Verificando acerto\n",
        "    elif matriz[linha][coluna] == 1:\n",
        "        jogo[linha][coluna] = \"X\"\n",
        "        clear_output(wait=True)\n",
        "        print(\"Parabéns! Você acertou um Navio! X = Navio /// . = Água\")\n",
        "        for linha in jogo:\n",
        "            print(' '.join(map(str, linha)))\n",
        "        navios -= 1\n",
        "        acertos_navios += 1\n",
        "        rodadas -= 1\n",
        "        acertos_sequencia += 1\n",
        "        max_acertos_sequencia = max(max_acertos_sequencia, acertos_sequencia)\n",
        "    else:\n",
        "        jogo[linha][coluna] = \".\"\n",
        "        clear_output(wait=True)\n",
        "        print(\"Você acertou a água! X = Navio /// . = Água\")\n",
        "        for linha in jogo:\n",
        "            print(' '.join(map(str, linha)))\n",
        "        rodadas -= 1\n",
        "        acertos_agua += 1\n",
        "        acertos_sequencia = 0\n",
        "\n",
        "# Fim do jogo\n",
        "for i in range(10):  # para melhor funcionamento do clear_output\n",
        "    clear_output(wait=True)\n",
        "    print(\"Fim de jogo\")\n",
        "    print(\"Estatísticas:\")\n",
        "    print(\"Acertos em Água:\", acertos_agua)\n",
        "    print(\"Acertos em Navios:\", acertos_navios)\n",
        "    print(\"Porcentagem de acertos em Água:\", (acertos_agua / (acertos_agua + acertos_navios)) * 100, \"%\")\n",
        "    print(\"Porcentagem de acertos em Navios:\", (acertos_navios / (acertos_agua + acertos_navios)) * 100, \"%\")\n",
        "    print(\"Acertos ininterruptos máximos:\", max_acertos_sequencia)\n",
        "\n",
        "for linha in jogo:\n",
        "    print(' '.join(map(str, linha)))\n"
      ]
    },
    {
      "cell_type": "markdown",
      "metadata": {
        "id": "ffEKF4Kx5eQu"
      },
      "source": [
        "#Manipulação de arquivos: Conteudo será trabalhado na aula do"
      ]
    },
    {
      "cell_type": "markdown",
      "metadata": {
        "id": "IrQvRhQM5oj6"
      },
      "source": [
        "UUtilize o arquivo ‘compras.csv’ como base para resolver os seguintes exercícios.  disponivel em: https://drive.google.com/file/d/1cqqr7kWuBYYJxJ8W_-KHmcZHs6sfV_is/view"
      ]
    },
    {
      "cell_type": "markdown",
      "metadata": {
        "id": "J8g6sYrl3Xjg"
      },
      "source": [
        "Utilize as seguintes faixas etárias nos exercícios em que for necessário.\n",
        "- Jovens, 18 a 25 anos\n",
        "- Adultos, 26 a 59 anos\n",
        "- Idosos, igual ou maior que 60 anos\n"
      ]
    },
    {
      "cell_type": "markdown",
      "metadata": {
        "id": "ZJpTRgx3XdQd"
      },
      "source": [
        "Func lista"
      ]
    },
    {
      "cell_type": "code",
      "execution_count": 28,
      "metadata": {
        "id": "Jh8PRzZpUaIZ"
      },
      "outputs": [
        {
          "name": "stdout",
          "output_type": "stream",
          "text": [
            "Requirement already satisfied: pandas in c:\\users\\rodrigo\\appdata\\local\\programs\\python\\python312\\lib\\site-packages (2.2.2)\n",
            "Requirement already satisfied: numpy>=1.26.0 in c:\\users\\rodrigo\\appdata\\local\\programs\\python\\python312\\lib\\site-packages (from pandas) (1.26.4)\n",
            "Requirement already satisfied: python-dateutil>=2.8.2 in c:\\users\\rodrigo\\appdata\\roaming\\python\\python312\\site-packages (from pandas) (2.9.0.post0)\n",
            "Requirement already satisfied: pytz>=2020.1 in c:\\users\\rodrigo\\appdata\\local\\programs\\python\\python312\\lib\\site-packages (from pandas) (2024.1)\n",
            "Requirement already satisfied: tzdata>=2022.7 in c:\\users\\rodrigo\\appdata\\local\\programs\\python\\python312\\lib\\site-packages (from pandas) (2024.1)\n",
            "Requirement already satisfied: six>=1.5 in c:\\users\\rodrigo\\appdata\\roaming\\python\\python312\\site-packages (from python-dateutil>=2.8.2->pandas) (1.16.0)\n",
            "       nome sobrenome  idade sexo  compra   ano pagamento\n",
            "0  Bernardo    Soares     55    M    1917  2006    debito\n",
            "1     Maria  Ferreira     20    F    7204  2005  dinheiro\n",
            "2    Sophia    Santos     37    F    7857  2006   credito\n",
            "3   Heloisa  Ferreira     58    F    7169  2010    debito\n",
            "4     Alice  Ferreira     49    F    3153  2007  dinheiro\n"
          ]
        }
      ],
      "source": [
        "!pip install pandas\n",
        "import pandas as pd\n",
        "\n",
        "df = pd.read_csv('compras.csv')\n",
        "\n",
        "print(df.head())\n"
      ]
    },
    {
      "cell_type": "markdown",
      "metadata": {
        "id": "51LKHrRRXfhF"
      },
      "source": [
        "func dic"
      ]
    },
    {
      "cell_type": "code",
      "execution_count": 33,
      "metadata": {
        "id": "EdtiIwqKVjtQ"
      },
      "outputs": [],
      "source": [
        "import csv\n",
        "\n",
        "def ler_csv_para_dicionario(caminho_arquivo):\n",
        "    dados = {}\n",
        "    with open(caminho_arquivo, newline='', encoding='utf-8') as csvfile:\n",
        "        leitor = csv.reader(csvfile)\n",
        "        cabecalho = next(leitor)  # Lê a linha de cabeçalho\n",
        "\n",
        "        for i, linha in enumerate(leitor):\n",
        "            individuo = {cabecalho[j]: linha[j] for j in range(len(cabecalho))}\n",
        "            dados[i] = individuo\n",
        "\n",
        "    return dados\n"
      ]
    },
    {
      "cell_type": "code",
      "execution_count": 40,
      "metadata": {
        "id": "Ink56mcQVpNS"
      },
      "outputs": [],
      "source": [
        "import pprint"
      ]
    },
    {
      "cell_type": "markdown",
      "metadata": {
        "id": "apGpARF-3nW9"
      },
      "source": [
        "Procure quem foi a pessoa que mais gastou?"
      ]
    },
    {
      "cell_type": "code",
      "execution_count": 36,
      "metadata": {},
      "outputs": [
        {
          "name": "stdout",
          "output_type": "stream",
          "text": [
            "A pessoa que mais gastou foi Samuel Alves com um total de 371643.00 unidades.\n"
          ]
        }
      ],
      "source": [
        "# Agrupar por nome e sobrenome, somando as compras\n",
        "df['compra'] = df['compra'].astype(float)  # Garantir que a coluna 'compra' é numérica\n",
        "gastos_por_pessoa = df.groupby(['nome', 'sobrenome'])['compra'].sum()\n",
        "\n",
        "# Encontrar a pessoa que mais gastou\n",
        "maior_gasto = gastos_por_pessoa.idxmax()\n",
        "valor_maior_gasto = gastos_por_pessoa.max()\n",
        "\n",
        "# Exibir o resultado\n",
        "print(f\"A pessoa que mais gastou foi {maior_gasto[0]} {maior_gasto[1]} com um total de {valor_maior_gasto:.2f} unidades.\")\n"
      ]
    },
    {
      "cell_type": "markdown",
      "metadata": {
        "id": "lTCfBbOjXZYx"
      },
      "source": [
        "Com dic"
      ]
    },
    {
      "cell_type": "code",
      "execution_count": 41,
      "metadata": {
        "id": "EPX_3cU33XOh"
      },
      "outputs": [],
      "source": [
        "def encontrar_maior_gasto(dados):\n",
        "    maior_gasto = 0\n",
        "    pessoa_maior_gasto = None\n",
        "\n",
        "    for individuo, info in dados.items():\n",
        "        gasto = float(info['compra'])\n",
        "        if gasto > maior_gasto:\n",
        "            maior_gasto = gasto\n",
        "            pessoa_maior_gasto = info\n",
        "    return pessoa_maior_gasto"
      ]
    },
    {
      "cell_type": "markdown",
      "metadata": {
        "id": "-WQ9JImSXa01"
      },
      "source": [
        "Com lista"
      ]
    },
    {
      "cell_type": "code",
      "execution_count": 43,
      "metadata": {
        "id": "zTKcFQ6CXHDC"
      },
      "outputs": [],
      "source": [
        "def encontrar_maior_gasto_lista(cabecalho, dados):\n",
        "    indice_compra = cabecalho.index('compra')\n",
        "    maior_gasto = 0\n",
        "    pessoa_maior_gasto = None\n",
        "\n",
        "    for linha in dados:\n",
        "        gasto = float(linha[indice_compra])\n",
        "        if gasto > maior_gasto:\n",
        "            maior_gasto = gasto\n",
        "            pessoa_maior_gasto = linha\n",
        "\n",
        "    pessoa_info = {cabecalho[i]: pessoa_maior_gasto[i] for i in range(len(cabecalho))}\n",
        "    return pessoa_info"
      ]
    },
    {
      "cell_type": "code",
      "execution_count": 45,
      "metadata": {},
      "outputs": [
        {
          "name": "stdout",
          "output_type": "stream",
          "text": [
            "Os anos presentes na base de dados são: [2005, 2006, 2007, 2008, 2009, 2010, 2011, 2012, 2013, 2014, 2015, 2016, 2017, 2018, 2019, 2020]\n"
          ]
        }
      ],
      "source": [
        "anos_unicos = df['ano'].unique()\n",
        "print(f\"Os anos presentes na base de dados são: {sorted(anos_unicos)}\")"
      ]
    },
    {
      "cell_type": "markdown",
      "metadata": {
        "id": "R2DKj08Z5tqJ"
      },
      "source": [
        "Qual a porcentagem de homens e mulheres na base de dados?"
      ]
    },
    {
      "cell_type": "code",
      "execution_count": 57,
      "metadata": {
        "id": "3wZDjRn03xB0"
      },
      "outputs": [
        {
          "name": "stdout",
          "output_type": "stream",
          "text": [
            "sexo\n",
            "M    57.16\n",
            "F    42.84\n",
            "Name: proportion, dtype: float64\n"
          ]
        }
      ],
      "source": [
        "generos = df['sexo'].value_counts(normalize=True) * 100\n",
        "\n",
        "print(generos)"
      ]
    },
    {
      "cell_type": "markdown",
      "metadata": {
        "id": "Nou_jojr3ztM"
      },
      "source": [
        "Qual foi o gasto por ano?"
      ]
    },
    {
      "cell_type": "code",
      "execution_count": 62,
      "metadata": {
        "id": "hjBuBCDb30YI"
      },
      "outputs": [
        {
          "name": "stdout",
          "output_type": "stream",
          "text": [
            "ano\n",
            "2005    1542645.0\n",
            "2006    1671499.0\n",
            "2007    1711268.0\n",
            "2008    1475291.0\n",
            "2009    1518779.0\n",
            "2010    1611940.0\n",
            "2011    1668563.0\n",
            "2012    1642695.0\n",
            "2013    1647590.0\n",
            "2014    1671750.0\n",
            "2015    1514146.0\n",
            "2016    1812226.0\n",
            "2017    1645386.0\n",
            "2018    1778911.0\n",
            "2019    1717606.0\n",
            "2020    1515322.0\n",
            "Name: compra, dtype: float64\n"
          ]
        }
      ],
      "source": [
        "gastos_anuais = df.groupby('ano')['compra'].sum()\n",
        "print(gastos_anuais)"
      ]
    },
    {
      "cell_type": "markdown",
      "metadata": {
        "id": "vgN3teMQ32pg"
      },
      "source": [
        "Qual foi o ano com maior gasto?"
      ]
    },
    {
      "cell_type": "code",
      "execution_count": 63,
      "metadata": {
        "id": "JmN_ZHBV35ss"
      },
      "outputs": [
        {
          "name": "stdout",
          "output_type": "stream",
          "text": [
            "2016\n"
          ]
        }
      ],
      "source": [
        "ano_com_mais_gasto = gastos_anuais.idxmax()\n",
        "print(ano_com_mais_gasto)"
      ]
    },
    {
      "cell_type": "markdown",
      "metadata": {
        "id": "V_y9EX0p34-E"
      },
      "source": [
        "Utilizando as faixas etárias, diga quantas pessoas há em cada faixa?"
      ]
    },
    {
      "cell_type": "code",
      "execution_count": 82,
      "metadata": {
        "id": "ukkjPSE738r8"
      },
      "outputs": [
        {
          "name": "stdout",
          "output_type": "stream",
          "text": [
            "Faixa Etária\n",
            "Adultos    3280\n",
            "Idosos      992\n",
            "Jovens      728\n",
            "Name: count, dtype: int64\n"
          ]
        }
      ],
      "source": [
        "faixas_idade = [18, 26, 60, float('inf')]\n",
        "faixa_tipo = ['Jovens', 'Adultos', 'Idosos']\n",
        "\n",
        "df['Faixa Etária'] = pd.cut(df['idade'], bins=faixas_idade, labels=faixa_tipo, right=False)\n",
        "\n",
        "contagem_faixa = df['Faixa Etária'].value_counts()\n",
        "\n",
        "print(contagem_faixa)"
      ]
    },
    {
      "cell_type": "markdown",
      "metadata": {
        "id": "_7qmp-1y36Ac"
      },
      "source": [
        "Qual é a faixa etária que mais gasta?"
      ]
    },
    {
      "cell_type": "code",
      "execution_count": 79,
      "metadata": {
        "id": "O0_Wt4I838V0"
      },
      "outputs": [
        {
          "name": "stdout",
          "output_type": "stream",
          "text": [
            "Idosos são a faixa etária que mais gasta\n"
          ]
        },
        {
          "name": "stderr",
          "output_type": "stream",
          "text": [
            "C:\\Users\\Rodrigo\\AppData\\Local\\Temp\\ipykernel_16852\\2421324195.py:2: FutureWarning: The default of observed=False is deprecated and will be changed to True in a future version of pandas. Pass observed=False to retain current behavior or observed=True to adopt the future default and silence this warning.\n",
            "  gasto_medio_por_idade = df.groupby('Faixa Etária')['compra'].mean()\n"
          ]
        }
      ],
      "source": [
        "# Calculate average spending per age group\n",
        "gasto_medio_por_idade = df.groupby('Faixa Etária')['compra'].mean()\n",
        "\n",
        "# Find the age group with the highest average spending\n",
        "faixa_etária_com_maiores_gastos = gasto_medio_por_idade.idxmax()\n",
        "\n",
        "\n",
        "print(f\"{faixa_etária_com_maiores_gastos} são a faixa etária que mais gasta\")"
      ]
    },
    {
      "cell_type": "markdown",
      "metadata": {
        "id": "L_EUiizw3-jM"
      },
      "source": [
        "A opção de débito é mais utilizada entre homens ou mulheres?"
      ]
    },
    {
      "cell_type": "code",
      "execution_count": 78,
      "metadata": {
        "id": "dIKB7PXj3_DE"
      },
      "outputs": [
        {
          "name": "stdout",
          "output_type": "stream",
          "text": [
            "Homens utilizam mais a forma de pagamento débito.\n"
          ]
        }
      ],
      "source": [
        "pagamento_debito = df[df['pagamento'] == 'debito']\n",
        "\n",
        "contagem_genero = pagamento_debito['sexo'].value_counts()\n",
        "\n",
        "maioria_freq_genero = contagem_genero.idxmax()\n",
        "\n",
        "rotulo_genero = \"Homens\" if maioria_freq_genero == \"M\" else \"Mulheres\"\n",
        "\n",
        "print(f\"{rotulo_genero} utilizam mais a forma de pagamento débito.\")"
      ]
    },
    {
      "cell_type": "markdown",
      "metadata": {
        "id": "jOMpl3Th4Bkm"
      },
      "source": [
        "Qual o sobrenome que mais aparece na base de dados?"
      ]
    },
    {
      "cell_type": "code",
      "execution_count": 84,
      "metadata": {
        "id": "LDFe_62s4B_Q"
      },
      "outputs": [
        {
          "name": "stdout",
          "output_type": "stream",
          "text": [
            "O sobrenome que mais aparece é: Alves\n"
          ]
        }
      ],
      "source": [
        "sobrenome_mais_aparece = df['sobrenome'].value_counts().idxmax()\n",
        "\n",
        "print(f\"O sobrenome que mais aparece é: {sobrenome_mais_aparece}\")"
      ]
    },
    {
      "cell_type": "markdown",
      "metadata": {
        "id": "Q7VS9K_Q4ECM"
      },
      "source": [
        "Qual foi o ano em que os homens mais usaram o crédito?"
      ]
    },
    {
      "cell_type": "code",
      "execution_count": 87,
      "metadata": {
        "id": "5H60b3n64Ee0"
      },
      "outputs": [
        {
          "name": "stdout",
          "output_type": "stream",
          "text": [
            "O ano que os Homens mais usaram o crédito foi: 2018\n"
          ]
        }
      ],
      "source": [
        "homen_usando_credito = df[(df['sexo'] == 'M') & (df['pagamento'] == 'credito')]\n",
        "\n",
        "ano_credito_usado = homen_usando_credito['ano'].value_counts()\n",
        "\n",
        "ano_mais_usado_credito = ano_credito_usado.idxmax()\n",
        "\n",
        "print(f\"O ano que os Homens mais usaram o crédito foi: {ano_mais_usado_credito}\")"
      ]
    },
    {
      "cell_type": "markdown",
      "metadata": {
        "id": "ebnmp5KD4GPw"
      },
      "source": [
        "Qual opção de pagamento é mais utilizada em cada faixa etária?"
      ]
    },
    {
      "cell_type": "code",
      "execution_count": 88,
      "metadata": {
        "id": "NumXkC5p4H7s"
      },
      "outputs": [
        {
          "name": "stdout",
          "output_type": "stream",
          "text": [
            "Faixa Etária\n",
            "Jovens     dinheiro\n",
            "Adultos      debito\n",
            "Idosos       debito\n",
            "Name: pagamento, dtype: object\n"
          ]
        },
        {
          "name": "stderr",
          "output_type": "stream",
          "text": [
            "C:\\Users\\Rodrigo\\AppData\\Local\\Temp\\ipykernel_16852\\853153653.py:1: FutureWarning: The default of observed=False is deprecated and will be changed to True in a future version of pandas. Pass observed=False to retain current behavior or observed=True to adopt the future default and silence this warning.\n",
            "  most_frequent_payment_by_age = df.groupby('Faixa Etária')['pagamento'].agg(pd.Series.mode)\n"
          ]
        }
      ],
      "source": [
        "maior_frequencia_pagamento = df.groupby('Faixa Etária')['pagamento'].agg(pd.Series.mode)\n",
        "\n",
        "print(maior_frequencia_pagamento)"
      ]
    },
    {
      "cell_type": "markdown",
      "metadata": {
        "id": "jRKhI6Dv4IQJ"
      },
      "source": [
        "Qual o valor gasto em compras por jovens do ano de 2010 até 2015?"
      ]
    },
    {
      "cell_type": "code",
      "execution_count": 95,
      "metadata": {
        "id": "6SXstcF54Itk"
      },
      "outputs": [
        {
          "name": "stdout",
          "output_type": "stream",
          "text": [
            "O total de gatos de 2010 a 2015 pelos jovens foi de: R$ 1265539.0\n"
          ]
        }
      ],
      "source": [
        "gasto_jovens = df[(df['Faixa Etária'] == 'Jovens') & (df['ano'] >= 2010) & (df['ano'] <= 2015)]\n",
        "\n",
        "total_gasto = gasto_jovens['compra'].sum()\n",
        "\n",
        "print(f\"O total de gatos de 2010 a 2015 pelos jovens foi de: R$ {total_gasto}\")"
      ]
    }
  ],
  "metadata": {
    "colab": {
      "provenance": []
    },
    "kernelspec": {
      "display_name": "Python 3",
      "name": "python3"
    },
    "language_info": {
      "codemirror_mode": {
        "name": "ipython",
        "version": 3
      },
      "file_extension": ".py",
      "mimetype": "text/x-python",
      "name": "python",
      "nbconvert_exporter": "python",
      "pygments_lexer": "ipython3",
      "version": "3.12.3"
    }
  },
  "nbformat": 4,
  "nbformat_minor": 0
}
